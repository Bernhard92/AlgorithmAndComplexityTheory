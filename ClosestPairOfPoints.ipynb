{
 "cells": [
  {
   "cell_type": "markdown",
   "metadata": {},
   "source": [
    "# Closest pair of points - 2 Dimensional"
   ]
  },
  {
   "cell_type": "code",
   "execution_count": 1,
   "metadata": {
    "ExecuteTime": {
     "end_time": "2019-11-20T19:18:24.321229Z",
     "start_time": "2019-11-20T19:18:23.694160Z"
    }
   },
   "outputs": [],
   "source": [
    "import math\n",
    "import numpy as np\n",
    "import matplotlib.pyplot as plt\n",
    "import sys\n",
    "import time"
   ]
  },
  {
   "cell_type": "markdown",
   "metadata": {},
   "source": [
    "Calculate the distance between two points in a two dimensional grid"
   ]
  },
  {
   "cell_type": "code",
   "execution_count": 2,
   "metadata": {
    "ExecuteTime": {
     "end_time": "2019-11-20T19:18:24.332077Z",
     "start_time": "2019-11-20T19:18:24.326718Z"
    }
   },
   "outputs": [],
   "source": [
    "def dist(p1, p2):\n",
    "    return (math.sqrt((p1[0] - p2[0])**2 + (p1[1] - p2[1])**2))"
   ]
  },
  {
   "cell_type": "markdown",
   "metadata": {},
   "source": [
    "Create 2 equally distributed arrays with ten elements each.\n",
    "These represent the x and y coordinates of 10 points in the two-dimensional coordinate system."
   ]
  },
  {
   "cell_type": "code",
   "execution_count": 3,
   "metadata": {
    "ExecuteTime": {
     "end_time": "2019-11-20T19:18:24.342059Z",
     "start_time": "2019-11-20T19:18:24.336341Z"
    }
   },
   "outputs": [],
   "source": [
    "n = 100 # Number of elements\n",
    "x = np.random.uniform(-10, 10, n)\n",
    "y = np.random.uniform(-10, 10, n)\n",
    "points = np.column_stack((x, y))"
   ]
  },
  {
   "cell_type": "markdown",
   "metadata": {},
   "source": [
    "Plot all points"
   ]
  },
  {
   "cell_type": "code",
   "execution_count": 4,
   "metadata": {
    "ExecuteTime": {
     "end_time": "2019-11-20T19:18:24.573926Z",
     "start_time": "2019-11-20T19:18:24.346236Z"
    },
    "scrolled": true
   },
   "outputs": [
    {
     "data": {
      "text/plain": [
       "<matplotlib.collections.PathCollection at 0x11d62e650>"
      ]
     },
     "execution_count": 4,
     "metadata": {},
     "output_type": "execute_result"
    },
    {
     "data": {
      "image/png": "[encoded data removed]",
      "text/plain": [
       "<Figure size 432x288 with 1 Axes>"
      ]
     },
     "metadata": {
      "needs_background": "light"
     },
     "output_type": "display_data"
    }
   ],
   "source": [
    "plt.scatter(points[:,0], points[:,1])"
   ]
  },
  {
   "cell_type": "markdown",
   "metadata": {},
   "source": [
    "## Brute force calculation with an $O(n^2)$ complexity"
   ]
  },
  {
   "cell_type": "code",
   "execution_count": 5,
   "metadata": {
    "ExecuteTime": {
     "end_time": "2019-11-20T19:18:24.590445Z",
     "start_time": "2019-11-20T19:18:24.578405Z"
    }
   },
   "outputs": [],
   "source": [
    "def dist_matrix(points):\n",
    "    distance_matrix = np.ndarray((len(points), len(points)))\n",
    "    min_distance = sys.maxsize\n",
    "    point1 = None\n",
    "    point2 = None\n",
    "    for i in range(len(points)):\n",
    "        for j in range(len(points)):\n",
    "            distance = dist(points[i], points[j])\n",
    "            distance_matrix[i][j] = distance\n",
    "            if(distance > 0 and distance < min_distance):\n",
    "                min_distance = distance\n",
    "                point1 = points[i]\n",
    "                point2 = points[j]\n",
    "    \n",
    "    return distance_matrix, min_distance, point1, point2"
   ]
  },
  {
   "cell_type": "code",
   "execution_count": 6,
   "metadata": {
    "ExecuteTime": {
     "end_time": "2019-11-20T19:18:24.630406Z",
     "start_time": "2019-11-20T19:18:24.594523Z"
    }
   },
   "outputs": [],
   "source": [
    "start_time = time.time()\n",
    "distance_matrix, distance, p1, p2 = dist_matrix(points)\n",
    "end_time = time.time()"
   ]
  },
  {
   "cell_type": "code",
   "execution_count": 7,
   "metadata": {
    "ExecuteTime": {
     "end_time": "2019-11-20T19:18:24.641137Z",
     "start_time": "2019-11-20T19:18:24.634602Z"
    }
   },
   "outputs": [
    {
     "name": "stdout",
     "output_type": "stream",
     "text": [
      "('Min distance: ', 0.09906223898544478)\n",
      "Between: \n",
      "[6.37970143 5.48950856]\n",
      "[6.45495914 5.42509114]\n",
      "('Time needed: ', 0.030039072036743164)\n"
     ]
    }
   ],
   "source": [
    "print('Min distance: ', distance)\n",
    "print('Between: ')\n",
    "print(p1)\n",
    "print(p2)\n",
    "print('Time needed: ',  end_time - start_time)"
   ]
  },
  {
   "cell_type": "code",
   "execution_count": 8,
   "metadata": {
    "ExecuteTime": {
     "end_time": "2019-11-20T19:18:24.652536Z",
     "start_time": "2019-11-20T19:18:24.646005Z"
    }
   },
   "outputs": [
    {
     "name": "stdout",
     "output_type": "stream",
     "text": [
      "4.4198657518765785\n",
      "(4.4198657518765785, 'should be the same as above')\n",
      "(0.0, 'should be zero')\n"
     ]
    }
   ],
   "source": [
    "print(distance_matrix[1,2])\n",
    "print(distance_matrix[2,1], 'should be the same as above')\n",
    "print(distance_matrix[2,2], 'should be zero')"
   ]
  },
  {
   "cell_type": "markdown",
   "metadata": {},
   "source": [
    "## Divide and Conquer"
   ]
  },
  {
   "cell_type": "markdown",
   "metadata": {},
   "source": [
    "#### Sort the list in O (n log n) using heapsort"
   ]
  },
  {
   "cell_type": "code",
   "execution_count": 9,
   "metadata": {
    "ExecuteTime": {
     "end_time": "2019-11-20T19:18:24.663261Z",
     "start_time": "2019-11-20T19:18:24.657203Z"
    }
   },
   "outputs": [],
   "source": [
    "sorted_x = points[points[:,0].argsort(kind='heapsort')]\n",
    "sorted_y = points[points[:,1].argsort(kind='heapsort')]"
   ]
  },
  {
   "cell_type": "code",
   "execution_count": 10,
   "metadata": {
    "ExecuteTime": {
     "end_time": "2019-11-20T19:18:24.672415Z",
     "start_time": "2019-11-20T19:18:24.666366Z"
    }
   },
   "outputs": [],
   "source": [
    "def plot_cut(q, r):\n",
    "    \"\"\"Plote the point in the graph coloring \n",
    "    the to separated groups in blue and read\"\"\"\n",
    "    plt.scatter(q[:,0], q[:,1], c='b', label='q')\n",
    "    plt.scatter(r[:,0], r[:,1], c='r', label='r')\n",
    "    plt.legend(loc='upper left')\n",
    "    plt.show()"
   ]
  },
  {
   "cell_type": "code",
   "execution_count": 11,
   "metadata": {
    "ExecuteTime": {
     "end_time": "2019-11-20T19:18:24.703321Z",
     "start_time": "2019-11-20T19:18:24.677009Z"
    }
   },
   "outputs": [],
   "source": [
    "def closest_pair(x, y):\n",
    "    # Base case: Calc the distance of the points if the number of points is less then or equal 3\n",
    "    if(len(x) <= 3):\n",
    "        _, min_distance, p1, p2 = dist_matrix(x)\n",
    "        return min_distance, p1, p2\n",
    "    else:\n",
    "        # Divide the quantity S into two equal subquantities S1 and S2, separated by the vertical V. \n",
    "        mid = len(x) // 2\n",
    "        qx = x[:mid]\n",
    "        rx = x[mid:]\n",
    "        \n",
    "        # plot_cut(qx, rx)\n",
    "        \n",
    "        midpoint = x[len(x)//2][0]\n",
    "        qy = []\n",
    "        ry = []\n",
    "        for i in y:\n",
    "            if i[0] <= midpoint:\n",
    "                qy.append(i)\n",
    "            else:\n",
    "                ry.append(i)\n",
    "        \n",
    "        # Solve the problem recursively on S1 and S2.\n",
    "        q_min_distance, q1, q2 = closest_pair(qx, qy)\n",
    "        r_min_distance, r1, r2 = closest_pair(rx, ry)\n",
    "          \n",
    "        \n",
    "        if q_min_distance < r_min_distance:\n",
    "            d = q_min_distance\n",
    "            cp = (q1, q2)\n",
    "        else:\n",
    "            d = r_min_distance\n",
    "            cp = (r1, r2)\n",
    "            \n",
    "        v_min_distance, pair = closest_strip_pair(x, y, d, cp)\n",
    "        \n",
    "        if v_min_distance < d:\n",
    "            d = v_min_distance\n",
    "            cp = pair\n",
    "            \n",
    "        return d, cp[0], cp[1]"
   ]
  },
  {
   "cell_type": "code",
   "execution_count": 12,
   "metadata": {
    "ExecuteTime": {
     "end_time": "2019-11-20T19:18:24.720081Z",
     "start_time": "2019-11-20T19:18:24.708290Z"
    }
   },
   "outputs": [],
   "source": [
    "def closest_strip_pair(x, y, d, closest_pair):\n",
    "    midpoint = x[len(x) // 2][0]\n",
    "    \n",
    "    # Get every point that is inside the strip\n",
    "    s_y = [i for i in y if midpoint - d <= i[0] <= midpoint + d]\n",
    "    \n",
    "    closes_distance = d\n",
    "    for i in range(len(s_y)):\n",
    "        for j in range(i + 1, min(i + 7, len(s_y))):\n",
    "            q = s_y[i]\n",
    "            r = s_y[j]\n",
    "            distance = dist(q, r)\n",
    "            if distance < closes_distance:\n",
    "                best = distance\n",
    "                closest_pair = (q, r)\n",
    "    \n",
    "    return d, closest_pair"
   ]
  },
  {
   "cell_type": "code",
   "execution_count": 13,
   "metadata": {
    "ExecuteTime": {
     "end_time": "2019-11-20T19:18:24.735473Z",
     "start_time": "2019-11-20T19:18:24.724906Z"
    }
   },
   "outputs": [],
   "source": [
    "start_time = time.time()\n",
    "d, p1, p2 = closest_pair(sorted_x, sorted_y)\n",
    "end_time = time.time()"
   ]
  },
  {
   "cell_type": "code",
   "execution_count": 14,
   "metadata": {
    "ExecuteTime": {
     "end_time": "2019-11-20T19:18:24.748625Z",
     "start_time": "2019-11-20T19:18:24.741741Z"
    }
   },
   "outputs": [
    {
     "name": "stdout",
     "output_type": "stream",
     "text": [
      "('The closest points are: ', array([6.37970143, 5.48950856]), ' and ', array([6.45495914, 5.42509114]))\n",
      "('With a distance of; ', 0.09906223898544478)\n",
      "('Time needed for calculation: ', 0.004602909088134766)\n"
     ]
    }
   ],
   "source": [
    "print('The closest points are: ', p1, ' and ', p2)\n",
    "print('With a distance of; ', d)\n",
    "print('Time needed for calculation: ', end_time - start_time)"
   ]
  },
  {
   "cell_type": "markdown",
   "metadata": {},
   "source": [
    "## Benchmarks"
   ]
  },
  {
   "cell_type": "code",
   "execution_count": 15,
   "metadata": {
    "ExecuteTime": {
     "end_time": "2019-11-20T19:18:24.761280Z",
     "start_time": "2019-11-20T19:18:24.754117Z"
    }
   },
   "outputs": [],
   "source": [
    "n_begin = 1\n",
    "n_end = 43\n",
    "\n",
    "number_of_repeatings = 1\n",
    "execution_times = []"
   ]
  },
  {
   "cell_type": "markdown",
   "metadata": {},
   "source": [
    "Do not calculate closest pair for each amount between ```n_begin```and ```n_end```."
   ]
  },
  {
   "cell_type": "code",
   "execution_count": 16,
   "metadata": {
    "ExecuteTime": {
     "end_time": "2019-11-20T19:18:24.772546Z",
     "start_time": "2019-11-20T19:18:24.767114Z"
    }
   },
   "outputs": [],
   "source": [
    "point_spacing = lambda n: i**3"
   ]
  },
  {
   "cell_type": "code",
   "execution_count": 17,
   "metadata": {
    "ExecuteTime": {
     "end_time": "2019-11-20T19:19:18.837674Z",
     "start_time": "2019-11-20T19:18:24.777800Z"
    }
   },
   "outputs": [],
   "source": [
    "import time\n",
    "\n",
    "for i in range(n_begin, n_end):\n",
    "    time_needed = 0\n",
    "    for j in range(number_of_repeatings):\n",
    "        x = np.random.uniform(-100, 100, point_spacing(i))\n",
    "        y = np.random.uniform(-100, 100, point_spacing(i))\n",
    "        points = np.column_stack((x, y))\n",
    "        # sort the list\n",
    "        sorted_x = points[points[:,0].argsort(kind='heapsort')]\n",
    "        sorted_y = points[points[:,1].argsort(kind='heapsort')]\n",
    "        \n",
    "        # measure time\n",
    "        start_time = time.time()\n",
    "        d, p1, p2 = closest_pair(sorted_x, sorted_y)\n",
    "        end_time = time.time()\n",
    "        \n",
    "        # add time delta to time needed\n",
    "        time_needed += end_time - start_time\n",
    "        \n",
    "    execution_times.append(time_needed / number_of_repeatings)"
   ]
  },
  {
   "cell_type": "markdown",
   "metadata": {},
   "source": [
    "#### Add smallest possible number to avoid logarithm of zero"
   ]
  },
  {
   "cell_type": "code",
   "execution_count": 18,
   "metadata": {
    "ExecuteTime": {
     "end_time": "2019-11-20T19:19:18.846873Z",
     "start_time": "2019-11-20T19:19:18.842365Z"
    }
   },
   "outputs": [],
   "source": [
    "execution_times = [time + sys.float_info.epsilon for time in execution_times]"
   ]
  },
  {
   "cell_type": "code",
   "execution_count": 19,
   "metadata": {
    "ExecuteTime": {
     "end_time": "2019-11-20T19:19:18.856905Z",
     "start_time": "2019-11-20T19:19:18.851215Z"
    }
   },
   "outputs": [],
   "source": [
    "x_vals = [point_spacing(i) for i in range(n_begin, n_end)]"
   ]
  },
  {
   "cell_type": "code",
   "execution_count": 20,
   "metadata": {
    "ExecuteTime": {
     "end_time": "2019-11-20T19:19:19.034181Z",
     "start_time": "2019-11-20T19:19:18.861483Z"
    }
   },
   "outputs": [
    {
     "data": {
      "text/plain": [
       "[<matplotlib.lines.Line2D at 0x11d7af0d0>]"
      ]
     },
     "execution_count": 20,
     "metadata": {},
     "output_type": "execute_result"
    },
    {
     "data": {
      "image/png": "[encoded data removed]",
      "text/plain": [
       "<Figure size 432x288 with 1 Axes>"
      ]
     },
     "metadata": {
      "needs_background": "light"
     },
     "output_type": "display_data"
    }
   ],
   "source": [
    "plt.plot(x_vals,execution_times)"
   ]
  },
  {
   "cell_type": "markdown",
   "metadata": {},
   "source": [
    "#### Benchmark 1\n",
    "\\begin{align*}\n",
    "(n^2_1, t_1), (n^2_2, t_2),(n^2_3, t_3)...\n",
    "\\end{align*}"
   ]
  },
  {
   "cell_type": "code",
   "execution_count": 21,
   "metadata": {
    "ExecuteTime": {
     "end_time": "2019-11-20T19:19:19.225368Z",
     "start_time": "2019-11-20T19:19:19.038292Z"
    },
    "scrolled": true
   },
   "outputs": [
    {
     "data": {
      "text/plain": [
       "[<matplotlib.lines.Line2D at 0x10e7ade50>]"
      ]
     },
     "execution_count": 21,
     "metadata": {},
     "output_type": "execute_result"
    },
    {
     "data": {
      "image/png": "[encoded data removed]",
      "text/plain": [
       "<Figure size 432x288 with 1 Axes>"
      ]
     },
     "metadata": {
      "needs_background": "light"
     },
     "output_type": "display_data"
    }
   ],
   "source": [
    "plt.plot(x_vals, [v**2 for v in execution_times])"
   ]
  },
  {
   "cell_type": "markdown",
   "metadata": {},
   "source": [
    "#### Benchmark 2\n",
    "\\begin{align*}\n",
    "(n_1(log n_1)^2, t_1), (n_2(log n_2)^2, t_2),(n_3(log n_3)^2, t_3)...\n",
    "\\end{align*}"
   ]
  },
  {
   "cell_type": "code",
   "execution_count": 22,
   "metadata": {
    "ExecuteTime": {
     "end_time": "2019-11-20T19:19:19.401324Z",
     "start_time": "2019-11-20T19:19:19.230375Z"
    },
    "scrolled": true
   },
   "outputs": [
    {
     "data": {
      "text/plain": [
       "[<matplotlib.lines.Line2D at 0x10fda9d10>]"
      ]
     },
     "execution_count": 22,
     "metadata": {},
     "output_type": "execute_result"
    },
    {
     "data": {
      "image/png": "[encoded data removed]",
      "text/plain": [
       "<Figure size 432x288 with 1 Axes>"
      ]
     },
     "metadata": {
      "needs_background": "light"
     },
     "output_type": "display_data"
    }
   ],
   "source": [
    "plt.plot(x_vals, [math.log(v)**2 for v in execution_times])"
   ]
  },
  {
   "cell_type": "markdown",
   "metadata": {},
   "source": [
    "#### Benchmark 3\n",
    "\\begin{align*}\n",
    "(n_1 log n_1, t_1), (n_2 log n_2, t_2),(n_3 log n_3, t_3)...\n",
    "\\end{align*}"
   ]
  },
  {
   "cell_type": "code",
   "execution_count": 23,
   "metadata": {
    "ExecuteTime": {
     "end_time": "2019-11-20T19:19:19.581690Z",
     "start_time": "2019-11-20T19:19:19.405721Z"
    }
   },
   "outputs": [
    {
     "data": {
      "text/plain": [
       "[<matplotlib.lines.Line2D at 0x11d90c150>]"
      ]
     },
     "execution_count": 23,
     "metadata": {},
     "output_type": "execute_result"
    },
    {
     "data": {
      "image/png": "[encoded data removed]",
      "text/plain": [
       "<Figure size 432x288 with 1 Axes>"
      ]
     },
     "metadata": {
      "needs_background": "light"
     },
     "output_type": "display_data"
    }
   ],
   "source": [
    "plt.plot(x_vals, [math.log(v) for v in execution_times])"
   ]
  },
  {
   "cell_type": "markdown",
   "metadata": {},
   "source": [
    "The result of the third sequence most closely approximates a linear line.\n",
    "This is gives us a hint that the algorithm has a complexity of $O(n^a)$"
   ]
  },
  {
   "cell_type": "markdown",
   "metadata": {},
   "source": [
    "## Empirical determination of complexity"
   ]
  },
  {
   "cell_type": "markdown",
   "metadata": {},
   "source": [
    "#### linear x and y axis: grows linearly"
   ]
  },
  {
   "cell_type": "code",
   "execution_count": 24,
   "metadata": {
    "ExecuteTime": {
     "end_time": "2019-11-20T19:19:19.764755Z",
     "start_time": "2019-11-20T19:19:19.586836Z"
    },
    "scrolled": false
   },
   "outputs": [
    {
     "data": {
      "text/plain": [
       "[<matplotlib.lines.Line2D at 0x11dc18dd0>]"
      ]
     },
     "execution_count": 24,
     "metadata": {},
     "output_type": "execute_result"
    },
    {
     "data": {
      "image/png": "[encoded data removed]",
      "text/plain": [
       "<Figure size 432x288 with 1 Axes>"
      ]
     },
     "metadata": {
      "needs_background": "light"
     },
     "output_type": "display_data"
    }
   ],
   "source": [
    "plt.plot(x_vals,execution_times)"
   ]
  },
  {
   "cell_type": "markdown",
   "metadata": {},
   "source": [
    "#### logarithmic x and linear y axis: grows logarithmically"
   ]
  },
  {
   "cell_type": "code",
   "execution_count": 25,
   "metadata": {
    "ExecuteTime": {
     "end_time": "2019-11-20T19:19:19.959893Z",
     "start_time": "2019-11-20T19:19:19.769280Z"
    },
    "scrolled": true
   },
   "outputs": [
    {
     "data": {
      "text/plain": [
       "[<matplotlib.lines.Line2D at 0x11e25e790>]"
      ]
     },
     "execution_count": 25,
     "metadata": {},
     "output_type": "execute_result"
    },
    {
     "data": {
      "image/png": "[encoded data removed]",
      "text/plain": [
       "<Figure size 432x288 with 1 Axes>"
      ]
     },
     "metadata": {
      "needs_background": "light"
     },
     "output_type": "display_data"
    }
   ],
   "source": [
    "plt.plot(np.log(x_vals),execution_times)"
   ]
  },
  {
   "cell_type": "markdown",
   "metadata": {},
   "source": [
    "#### linear x and logarithmic y axis: grows exponentially"
   ]
  },
  {
   "cell_type": "code",
   "execution_count": 26,
   "metadata": {
    "ExecuteTime": {
     "end_time": "2019-11-20T19:19:20.145635Z",
     "start_time": "2019-11-20T19:19:19.964856Z"
    },
    "scrolled": true
   },
   "outputs": [
    {
     "data": {
      "text/plain": [
       "[<matplotlib.lines.Line2D at 0x11e32b6d0>]"
      ]
     },
     "execution_count": 26,
     "metadata": {},
     "output_type": "execute_result"
    },
    {
     "data": {
      "image/png": "[encoded data removed]",
      "text/plain": [
       "<Figure size 432x288 with 1 Axes>"
      ]
     },
     "metadata": {
      "needs_background": "light"
     },
     "output_type": "display_data"
    }
   ],
   "source": [
    "plt.plot(x_vals, np.log(execution_times))"
   ]
  },
  {
   "cell_type": "markdown",
   "metadata": {},
   "source": [
    "#### logarithmic x and y axis: grows polynomially"
   ]
  },
  {
   "cell_type": "code",
   "execution_count": 27,
   "metadata": {
    "ExecuteTime": {
     "end_time": "2019-11-20T19:19:20.322749Z",
     "start_time": "2019-11-20T19:19:20.150249Z"
    },
    "scrolled": false
   },
   "outputs": [
    {
     "data": {
      "text/plain": [
       "[<matplotlib.lines.Line2D at 0x11e68d5d0>]"
      ]
     },
     "execution_count": 27,
     "metadata": {},
     "output_type": "execute_result"
    },
    {
     "data": {
      "image/png": "[encoded data removed]",
      "text/plain": [
       "<Figure size 432x288 with 1 Axes>"
      ]
     },
     "metadata": {
      "needs_background": "light"
     },
     "output_type": "display_data"
    }
   ],
   "source": [
    "plt.plot(np.log(x_vals), np.log(execution_times))"
   ]
  },
  {
   "cell_type": "markdown",
   "metadata": {},
   "source": [
    "# Result"
   ]
  },
  {
   "cell_type": "markdown",
   "metadata": {},
   "source": [
    "From a starting value of $n=3$ we have here an approximately straight line. This gives us information that this is a polynomial complexity."
   ]
  },
  {
   "cell_type": "code",
   "execution_count": 28,
   "metadata": {
    "ExecuteTime": {
     "end_time": "2019-11-20T19:19:20.872303Z",
     "start_time": "2019-11-20T19:19:20.327425Z"
    },
    "scrolled": true
   },
   "outputs": [],
   "source": [
    "from scipy.stats import linregress\n",
    "# cuting the first elements until the linear line begins\n",
    "epsilon = 3\n",
    "a = np.log(x_vals)[epsilon:]\n",
    "b = np.log(execution_times)[epsilon:]\n",
    "\n",
    "reg = linregress(a, b)"
   ]
  },
  {
   "cell_type": "code",
   "execution_count": 29,
   "metadata": {
    "ExecuteTime": {
     "end_time": "2019-11-20T19:19:20.885238Z",
     "start_time": "2019-11-20T19:19:20.876698Z"
    }
   },
   "outputs": [
    {
     "data": {
      "text/plain": [
       "LinregressResult(slope=1.113293318371805, intercept=-10.841389008928127, rvalue=0.9982414105737545, pvalue=5.1660656419858545e-47, stderr=0.010868744129729593)"
      ]
     },
     "execution_count": 29,
     "metadata": {},
     "output_type": "execute_result"
    }
   ],
   "source": [
    "reg"
   ]
  },
  {
   "cell_type": "markdown",
   "metadata": {},
   "source": [
    "seems to grow polynomially"
   ]
  },
  {
   "cell_type": "code",
   "execution_count": 30,
   "metadata": {
    "ExecuteTime": {
     "end_time": "2019-11-20T19:19:21.097456Z",
     "start_time": "2019-11-20T19:19:20.890062Z"
    },
    "scrolled": false
   },
   "outputs": [
    {
     "data": {
      "text/plain": [
       "<matplotlib.legend.Legend at 0x12a2b26d0>"
      ]
     },
     "execution_count": 30,
     "metadata": {},
     "output_type": "execute_result"
    },
    {
     "data": {
      "image/png": "[encoded data removed]",
      "text/plain": [
       "<Figure size 432x288 with 1 Axes>"
      ]
     },
     "metadata": {
      "needs_background": "light"
     },
     "output_type": "display_data"
    }
   ],
   "source": [
    "plt.plot(np.log(x_vals), [y * reg.slope + reg.intercept for y in np.log(x_vals)], label=\"reg\")\n",
    "plt.plot(np.log(x_vals), np.log(execution_times), label=\"data\")\n",
    "plt.legend(loc='upper left')"
   ]
  },
  {
   "cell_type": "code",
   "execution_count": null,
   "metadata": {},
   "outputs": [],
   "source": []
  }
 ],
 "metadata": {
  "kernelspec": {
   "display_name": "Python 2",
   "language": "python",
   "name": "python2"
  },
  "language_info": {
   "codemirror_mode": {
    "name": "ipython",
    "version": 2
   },
   "file_extension": ".py",
   "mimetype": "text/x-python",
   "name": "python",
   "nbconvert_exporter": "python",
   "pygments_lexer": "ipython2",
   "version": "2.7.15"
  },
  "toc": {
   "base_numbering": 1,
   "nav_menu": {},
   "number_sections": false,
   "sideBar": true,
   "skip_h1_title": true,
   "title_cell": "Table of Contents",
   "title_sidebar": "Contents",
   "toc_cell": false,
   "toc_position": {
    "height": "calc(100% - 180px)",
    "left": "10px",
    "top": "150px",
    "width": "212.62867736816406px"
   },
   "toc_section_display": true,
   "toc_window_display": true
  },
  "varInspector": {
   "cols": {
    "lenName": 16,
    "lenType": 16,
    "lenVar": 40
   },
   "kernels_config": {
    "python": {
     "delete_cmd_postfix": "",
     "delete_cmd_prefix": "del ",
     "library": "var_list.py",
     "varRefreshCmd": "print(var_dic_list())"
    },
    "r": {
     "delete_cmd_postfix": ") ",
     "delete_cmd_prefix": "rm(",
     "library": "var_list.r",
     "varRefreshCmd": "cat(var_dic_list()) "
    }
   },
   "types_to_exclude": [
    "module",
    "function",
    "builtin_function_or_method",
    "instance",
    "_Feature"
   ],
   "window_display": false
  }
 },
 "nbformat": 4,
 "nbformat_minor": 2
}
