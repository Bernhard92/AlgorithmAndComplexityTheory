{
 "cells": [
  {
   "cell_type": "markdown",
   "metadata": {},
   "source": [
    "# Closest pair of points - 2 Dimensional"
   ]
  },
  {
   "cell_type": "code",
   "execution_count": 1,
   "metadata": {
    "ExecuteTime": {
     "end_time": "2019-11-20T22:29:20.643785Z",
     "start_time": "2019-11-20T22:29:20.303709Z"
    }
   },
   "outputs": [],
   "source": [
    "import math\n",
    "import numpy as np\n",
    "import matplotlib.pyplot as plt\n",
    "import sys\n",
    "import time"
   ]
  },
  {
   "cell_type": "markdown",
   "metadata": {},
   "source": [
    "Calculate the distance between two points in a two dimensional grid"
   ]
  },
  {
   "cell_type": "code",
   "execution_count": 2,
   "metadata": {
    "ExecuteTime": {
     "end_time": "2019-11-20T22:29:21.710689Z",
     "start_time": "2019-11-20T22:29:21.706177Z"
    }
   },
   "outputs": [],
   "source": [
    "def dist(p1, p2):\n",
    "    return (math.sqrt((p1[0] - p2[0])**2 + (p1[1] - p2[1])**2))"
   ]
  },
  {
   "cell_type": "markdown",
   "metadata": {},
   "source": [
    "Create 2 equally distributed arrays with ten elements each.\n",
    "These represent the x and y coordinates of 10 points in the two-dimensional coordinate system."
   ]
  },
  {
   "cell_type": "code",
   "execution_count": 3,
   "metadata": {
    "ExecuteTime": {
     "end_time": "2019-11-20T22:29:22.803452Z",
     "start_time": "2019-11-20T22:29:22.797437Z"
    }
   },
   "outputs": [],
   "source": [
    "n = 100 # Number of elements\n",
    "x = np.random.uniform(-10, 10, n)\n",
    "y = np.random.uniform(-10, 10, n)\n",
    "points = np.column_stack((x, y))"
   ]
  },
  {
   "cell_type": "markdown",
   "metadata": {},
   "source": [
    "Plot all points"
   ]
  },
  {
   "cell_type": "code",
   "execution_count": 4,
   "metadata": {
    "ExecuteTime": {
     "end_time": "2019-11-20T22:29:24.721516Z",
     "start_time": "2019-11-20T22:29:24.498429Z"
    },
    "scrolled": true
   },
   "outputs": [
    {
     "data": {
      "text/plain": [
       "<matplotlib.collections.PathCollection at 0x115b4c750>"
      ]
     },
     "execution_count": 4,
     "metadata": {},
     "output_type": "execute_result"
    },
    {
     "data": {
      "image/png": "[encoded data removed]",
      "text/plain": [
       "<Figure size 432x288 with 1 Axes>"
      ]
     },
     "metadata": {
      "needs_background": "light"
     },
     "output_type": "display_data"
    }
   ],
   "source": [
    "plt.scatter(points[:,0], points[:,1])"
   ]
  },
  {
   "cell_type": "markdown",
   "metadata": {},
   "source": [
    "## Brute force calculation with an $O(n^2)$ complexity"
   ]
  },
  {
   "cell_type": "code",
   "execution_count": 5,
   "metadata": {
    "ExecuteTime": {
     "end_time": "2019-11-20T22:29:26.424834Z",
     "start_time": "2019-11-20T22:29:26.414446Z"
    }
   },
   "outputs": [],
   "source": [
    "def dist_matrix(points):\n",
    "    distance_matrix = np.ndarray((len(points), len(points)))\n",
    "    min_distance = sys.maxsize\n",
    "    point1 = None\n",
    "    point2 = None\n",
    "    for i in range(len(points)):\n",
    "        for j in range(len(points)):\n",
    "            distance = dist(points[i], points[j])\n",
    "            distance_matrix[i][j] = distance\n",
    "            if(distance > 0 and distance < min_distance):\n",
    "                min_distance = distance\n",
    "                point1 = points[i]\n",
    "                point2 = points[j]\n",
    "    \n",
    "    return distance_matrix, min_distance, point1, point2"
   ]
  },
  {
   "cell_type": "code",
   "execution_count": 6,
   "metadata": {
    "ExecuteTime": {
     "end_time": "2019-11-20T22:29:28.176624Z",
     "start_time": "2019-11-20T22:29:28.147492Z"
    }
   },
   "outputs": [],
   "source": [
    "start_time = time.time()\n",
    "distance_matrix, distance, p1, p2 = dist_matrix(points)\n",
    "end_time = time.time()"
   ]
  },
  {
   "cell_type": "code",
   "execution_count": 7,
   "metadata": {
    "ExecuteTime": {
     "end_time": "2019-11-20T22:29:29.973050Z",
     "start_time": "2019-11-20T22:29:29.966572Z"
    }
   },
   "outputs": [
    {
     "name": "stdout",
     "output_type": "stream",
     "text": [
      "('Min distance: ', 0.033820714663165406)\n",
      "Between: \n",
      "[ 5.11917945 -1.02020775]\n",
      "[ 5.13599081 -1.04955428]\n",
      "('Time needed: ', 0.024142026901245117)\n"
     ]
    }
   ],
   "source": [
    "print('Min distance: ', distance)\n",
    "print('Between: ')\n",
    "print(p1)\n",
    "print(p2)\n",
    "print('Time needed: ',  end_time - start_time)"
   ]
  },
  {
   "cell_type": "code",
   "execution_count": 8,
   "metadata": {
    "ExecuteTime": {
     "end_time": "2019-11-20T22:29:31.820095Z",
     "start_time": "2019-11-20T22:29:31.815919Z"
    }
   },
   "outputs": [
    {
     "name": "stdout",
     "output_type": "stream",
     "text": [
      "11.601688294640596\n",
      "(11.601688294640596, 'should be the same as above')\n",
      "(0.0, 'should be zero')\n"
     ]
    }
   ],
   "source": [
    "print(distance_matrix[1,2])\n",
    "print(distance_matrix[2,1], 'should be the same as above')\n",
    "print(distance_matrix[2,2], 'should be zero')"
   ]
  },
  {
   "cell_type": "markdown",
   "metadata": {},
   "source": [
    "## Divide and Conquer"
   ]
  },
  {
   "cell_type": "markdown",
   "metadata": {},
   "source": [
    "#### Sort the list in O (n log n) using heapsort"
   ]
  },
  {
   "cell_type": "code",
   "execution_count": 9,
   "metadata": {
    "ExecuteTime": {
     "end_time": "2019-11-20T22:29:33.663520Z",
     "start_time": "2019-11-20T22:29:33.658672Z"
    }
   },
   "outputs": [],
   "source": [
    "sorted_x = points[points[:,0].argsort(kind='heapsort')]\n",
    "sorted_y = points[points[:,1].argsort(kind='heapsort')]"
   ]
  },
  {
   "cell_type": "code",
   "execution_count": 10,
   "metadata": {
    "ExecuteTime": {
     "end_time": "2019-11-20T22:29:36.146433Z",
     "start_time": "2019-11-20T22:29:36.140106Z"
    }
   },
   "outputs": [],
   "source": [
    "def plot_cut(q, r):\n",
    "    \"\"\"Plote the point in the graph coloring \n",
    "    the to separated groups in blue and read\"\"\"\n",
    "    plt.scatter(q[:,0], q[:,1], c='b', label='q')\n",
    "    plt.scatter(r[:,0], r[:,1], c='r', label='r')\n",
    "    plt.legend(loc='upper left')\n",
    "    plt.show()"
   ]
  },
  {
   "cell_type": "code",
   "execution_count": 11,
   "metadata": {
    "ExecuteTime": {
     "end_time": "2019-11-20T22:29:36.177866Z",
     "start_time": "2019-11-20T22:29:36.151612Z"
    }
   },
   "outputs": [],
   "source": [
    "def closest_pair(x, y):\n",
    "    # Base case: Calc the distance of the points if the number of points is less then or equal 3\n",
    "    if(len(x) <= 3):\n",
    "        _, min_distance, p1, p2 = dist_matrix(x)\n",
    "        return min_distance, p1, p2\n",
    "    else:\n",
    "        # Divide the quantity S into two equal subquantities S1 and S2, separated by the vertical V. \n",
    "        mid = len(x) // 2\n",
    "        qx = x[:mid]\n",
    "        rx = x[mid:]\n",
    "        \n",
    "        # plot_cut(qx, rx)\n",
    "        \n",
    "        midpoint = x[len(x)//2][0]\n",
    "        qy = []\n",
    "        ry = []\n",
    "        for i in y:\n",
    "            if i[0] <= midpoint:\n",
    "                qy.append(i)\n",
    "            else:\n",
    "                ry.append(i)\n",
    "        \n",
    "        # Solve the problem recursively on S1 and S2.\n",
    "        q_min_distance, q1, q2 = closest_pair(qx, qy)\n",
    "        r_min_distance, r1, r2 = closest_pair(rx, ry)\n",
    "          \n",
    "        \n",
    "        if q_min_distance < r_min_distance:\n",
    "            d = q_min_distance\n",
    "            cp = (q1, q2)\n",
    "        else:\n",
    "            d = r_min_distance\n",
    "            cp = (r1, r2)\n",
    "            \n",
    "        v_min_distance, pair = closest_strip_pair(x, y, d, cp)\n",
    "        \n",
    "        if v_min_distance < d:\n",
    "            d = v_min_distance\n",
    "            cp = pair\n",
    "            \n",
    "        return d, cp[0], cp[1]"
   ]
  },
  {
   "cell_type": "code",
   "execution_count": 12,
   "metadata": {
    "ExecuteTime": {
     "end_time": "2019-11-20T22:29:38.640460Z",
     "start_time": "2019-11-20T22:29:38.628880Z"
    }
   },
   "outputs": [],
   "source": [
    "def closest_strip_pair(x, y, d, closest_pair):\n",
    "    midpoint = x[len(x) // 2][0]\n",
    "    \n",
    "    # Get every point that is inside the strip\n",
    "    s_y = [i for i in y if midpoint - d <= i[0] <= midpoint + d]\n",
    "    \n",
    "    closes_distance = d\n",
    "    for i in range(len(s_y)):\n",
    "        for j in range(i + 1, min(i + 7, len(s_y))):\n",
    "            q = s_y[i]\n",
    "            r = s_y[j]\n",
    "            distance = dist(q, r)\n",
    "            if distance < closes_distance:\n",
    "                best = distance\n",
    "                closest_pair = (q, r)\n",
    "    \n",
    "    return d, closest_pair"
   ]
  },
  {
   "cell_type": "code",
   "execution_count": 13,
   "metadata": {
    "ExecuteTime": {
     "end_time": "2019-11-20T22:29:44.094268Z",
     "start_time": "2019-11-20T22:29:44.085042Z"
    }
   },
   "outputs": [],
   "source": [
    "start_time = time.time()\n",
    "d, p1, p2 = closest_pair(sorted_x, sorted_y)\n",
    "end_time = time.time()"
   ]
  },
  {
   "cell_type": "code",
   "execution_count": 14,
   "metadata": {
    "ExecuteTime": {
     "end_time": "2019-11-20T22:29:46.964026Z",
     "start_time": "2019-11-20T22:29:46.958066Z"
    }
   },
   "outputs": [
    {
     "name": "stdout",
     "output_type": "stream",
     "text": [
      "('The closest points are: ', array([ 5.11917945, -1.02020775]), ' and ', array([ 5.13599081, -1.04955428]))\n",
      "('With a distance of; ', 0.033820714663165406)\n",
      "('Time needed for calculation: ', 0.003715038299560547)\n"
     ]
    }
   ],
   "source": [
    "print('The closest points are: ', p1, ' and ', p2)\n",
    "print('With a distance of; ', d)\n",
    "print('Time needed for calculation: ', end_time - start_time)"
   ]
  },
  {
   "cell_type": "markdown",
   "metadata": {},
   "source": [
    "## Benchmarks"
   ]
  },
  {
   "cell_type": "code",
   "execution_count": 15,
   "metadata": {
    "ExecuteTime": {
     "end_time": "2019-11-20T22:29:49.600873Z",
     "start_time": "2019-11-20T22:29:49.596846Z"
    }
   },
   "outputs": [],
   "source": [
    "n_begin = 1\n",
    "n_end = 50\n",
    "\n",
    "number_of_repeatings = 2\n",
    "execution_times = []"
   ]
  },
  {
   "cell_type": "markdown",
   "metadata": {},
   "source": [
    "Do not calculate closest pair for each amount between ```n_begin```and ```n_end```."
   ]
  },
  {
   "cell_type": "code",
   "execution_count": 16,
   "metadata": {
    "ExecuteTime": {
     "end_time": "2019-11-20T22:29:52.331749Z",
     "start_time": "2019-11-20T22:29:52.326679Z"
    }
   },
   "outputs": [],
   "source": [
    "point_spacing = lambda n: i**3"
   ]
  },
  {
   "cell_type": "code",
   "execution_count": 17,
   "metadata": {
    "ExecuteTime": {
     "end_time": "2019-11-20T22:29:55.083829Z",
     "start_time": "2019-11-20T22:29:55.075040Z"
    }
   },
   "outputs": [],
   "source": [
    "def exec_cpp(i):\n",
    "    x = np.random.uniform(-100, 100, point_spacing(i))\n",
    "    y = np.random.uniform(-100, 100, point_spacing(i))\n",
    "    points = np.column_stack((x, y))\n",
    "    # sort the list\n",
    "    sorted_x = points[points[:,0].argsort(kind='heapsort')]\n",
    "    sorted_y = points[points[:,1].argsort(kind='heapsort')]\n",
    "    \n",
    "    return closest_pair(sorted_x, sorted_y)\n",
    "    "
   ]
  },
  {
   "cell_type": "markdown",
   "metadata": {},
   "source": [
    "#### Use ```timeit```for measuring the time used\n",
    "https://docs.python.org/3/library/timeit.html"
   ]
  },
  {
   "cell_type": "code",
   "execution_count": 18,
   "metadata": {
    "ExecuteTime": {
     "end_time": "2019-11-20T22:33:18.553275Z",
     "start_time": "2019-11-20T22:29:57.650440Z"
    }
   },
   "outputs": [],
   "source": [
    "import timeit\n",
    "\n",
    "for i in range(n_begin, n_end):\n",
    "    time_needed = timeit.timeit(lambda: exec_cpp(i), number=number_of_repeatings)\n",
    "        \n",
    "    execution_times.append(time_needed / number_of_repeatings)"
   ]
  },
  {
   "cell_type": "markdown",
   "metadata": {},
   "source": [
    "#### Add smallest possible number to avoid logarithm of zero"
   ]
  },
  {
   "cell_type": "code",
   "execution_count": 19,
   "metadata": {
    "ExecuteTime": {
     "end_time": "2019-11-20T22:33:21.109450Z",
     "start_time": "2019-11-20T22:33:21.104797Z"
    }
   },
   "outputs": [],
   "source": [
    "execution_times = [time + sys.float_info.epsilon for time in execution_times]"
   ]
  },
  {
   "cell_type": "code",
   "execution_count": 20,
   "metadata": {
    "ExecuteTime": {
     "end_time": "2019-11-20T22:33:23.625567Z",
     "start_time": "2019-11-20T22:33:23.620364Z"
    }
   },
   "outputs": [],
   "source": [
    "x_vals = [point_spacing(i) for i in range(n_begin, n_end)]"
   ]
  },
  {
   "cell_type": "code",
   "execution_count": 21,
   "metadata": {
    "ExecuteTime": {
     "end_time": "2019-11-20T22:33:26.310342Z",
     "start_time": "2019-11-20T22:33:26.143666Z"
    }
   },
   "outputs": [
    {
     "data": {
      "text/plain": [
       "[<matplotlib.lines.Line2D at 0x10c39a990>]"
      ]
     },
     "execution_count": 21,
     "metadata": {},
     "output_type": "execute_result"
    },
    {
     "data": {
      "image/png": "[encoded data removed]",
      "text/plain": [
       "<Figure size 432x288 with 1 Axes>"
      ]
     },
     "metadata": {
      "needs_background": "light"
     },
     "output_type": "display_data"
    }
   ],
   "source": [
    "plt.plot(x_vals,execution_times)"
   ]
  },
  {
   "cell_type": "markdown",
   "metadata": {},
   "source": [
    "#### Plot 1\n",
    "\\begin{align*}\n",
    "(n^2_1, t_1), (n^2_2, t_2),(n^2_3, t_3)...\n",
    "\\end{align*}"
   ]
  },
  {
   "cell_type": "code",
   "execution_count": 22,
   "metadata": {
    "ExecuteTime": {
     "end_time": "2019-11-20T22:33:51.726062Z",
     "start_time": "2019-11-20T22:33:51.534978Z"
    },
    "scrolled": true
   },
   "outputs": [
    {
     "data": {
      "text/plain": [
       "[<matplotlib.lines.Line2D at 0x115cbf890>]"
      ]
     },
     "execution_count": 22,
     "metadata": {},
     "output_type": "execute_result"
    },
    {
     "data": {
      "image/png": "[encoded data removed]",
      "text/plain": [
       "<Figure size 432x288 with 1 Axes>"
      ]
     },
     "metadata": {
      "needs_background": "light"
     },
     "output_type": "display_data"
    }
   ],
   "source": [
    "plt.plot(x_vals, [v**2 for v in execution_times])"
   ]
  },
  {
   "cell_type": "markdown",
   "metadata": {},
   "source": [
    "#### Plot 2\n",
    "\\begin{align*}\n",
    "(n_1(log n_1)^2, t_1), (n_2(log n_2)^2, t_2),(n_3(log n_3)^2, t_3)...\n",
    "\\end{align*}"
   ]
  },
  {
   "cell_type": "code",
   "execution_count": 23,
   "metadata": {
    "ExecuteTime": {
     "end_time": "2019-11-20T22:33:54.488837Z",
     "start_time": "2019-11-20T22:33:54.314344Z"
    },
    "scrolled": true
   },
   "outputs": [
    {
     "data": {
      "text/plain": [
       "[<matplotlib.lines.Line2D at 0x115c40b10>]"
      ]
     },
     "execution_count": 23,
     "metadata": {},
     "output_type": "execute_result"
    },
    {
     "data": {
      "image/png": "[encoded data removed]",
      "text/plain": [
       "<Figure size 432x288 with 1 Axes>"
      ]
     },
     "metadata": {
      "needs_background": "light"
     },
     "output_type": "display_data"
    }
   ],
   "source": [
    "plt.plot(x_vals, [v*math.log(v)**2 for v in execution_times])"
   ]
  },
  {
   "cell_type": "markdown",
   "metadata": {},
   "source": [
    "#### Plot 3\n",
    "\\begin{align*}\n",
    "(n_1 log n_1, t_1), (n_2 log n_2, t_2),(n_3 log n_3, t_3)...\n",
    "\\end{align*}"
   ]
  },
  {
   "cell_type": "code",
   "execution_count": 24,
   "metadata": {
    "ExecuteTime": {
     "end_time": "2019-11-20T22:33:57.201602Z",
     "start_time": "2019-11-20T22:33:57.028420Z"
    }
   },
   "outputs": [
    {
     "data": {
      "text/plain": [
       "[<matplotlib.lines.Line2D at 0x115cbc450>]"
      ]
     },
     "execution_count": 24,
     "metadata": {},
     "output_type": "execute_result"
    },
    {
     "data": {
      "image/png": "[encoded data removed]",
      "text/plain": [
       "<Figure size 432x288 with 1 Axes>"
      ]
     },
     "metadata": {
      "needs_background": "light"
     },
     "output_type": "display_data"
    }
   ],
   "source": [
    "plt.plot(x_vals, [v*math.log(v) for v in execution_times])"
   ]
  },
  {
   "cell_type": "markdown",
   "metadata": {},
   "source": [
    "The result of the third graph most closely approximates a linear line.\n",
    "This is gives us a hint that the algorithm has a complexity $\\in O(n)$ or higher. The function which is increasing the slowest is still raising too fast. "
   ]
  },
  {
   "cell_type": "markdown",
   "metadata": {},
   "source": [
    "## Empirical determination of complexity"
   ]
  },
  {
   "cell_type": "markdown",
   "metadata": {},
   "source": [
    "#### linear x and y axis: grows linearly"
   ]
  },
  {
   "cell_type": "code",
   "execution_count": 25,
   "metadata": {
    "ExecuteTime": {
     "end_time": "2019-11-20T22:34:01.960368Z",
     "start_time": "2019-11-20T22:34:01.789207Z"
    },
    "scrolled": false
   },
   "outputs": [
    {
     "data": {
      "text/plain": [
       "[<matplotlib.lines.Line2D at 0x115d15690>]"
      ]
     },
     "execution_count": 25,
     "metadata": {},
     "output_type": "execute_result"
    },
    {
     "data": {
      "image/png": "[encoded data removed]",
      "text/plain": [
       "<Figure size 432x288 with 1 Axes>"
      ]
     },
     "metadata": {
      "needs_background": "light"
     },
     "output_type": "display_data"
    }
   ],
   "source": [
    "plt.plot(x_vals,execution_times)"
   ]
  },
  {
   "cell_type": "markdown",
   "metadata": {},
   "source": [
    "#### logarithmic x and linear y axis: grows logarithmically"
   ]
  },
  {
   "cell_type": "code",
   "execution_count": 26,
   "metadata": {
    "ExecuteTime": {
     "end_time": "2019-11-20T22:34:06.036072Z",
     "start_time": "2019-11-20T22:34:05.860444Z"
    },
    "scrolled": true
   },
   "outputs": [
    {
     "data": {
      "text/plain": [
       "[<matplotlib.lines.Line2D at 0x119f8cd10>]"
      ]
     },
     "execution_count": 26,
     "metadata": {},
     "output_type": "execute_result"
    },
    {
     "data": {
      "image/png": "[encoded data removed]",
      "text/plain": [
       "<Figure size 432x288 with 1 Axes>"
      ]
     },
     "metadata": {
      "needs_background": "light"
     },
     "output_type": "display_data"
    }
   ],
   "source": [
    "plt.plot(np.log(x_vals),execution_times)"
   ]
  },
  {
   "cell_type": "markdown",
   "metadata": {},
   "source": [
    "#### linear x and logarithmic y axis: grows exponentially"
   ]
  },
  {
   "cell_type": "code",
   "execution_count": 27,
   "metadata": {
    "ExecuteTime": {
     "end_time": "2019-11-20T22:34:08.783286Z",
     "start_time": "2019-11-20T22:34:08.620231Z"
    },
    "scrolled": true
   },
   "outputs": [
    {
     "data": {
      "text/plain": [
       "[<matplotlib.lines.Line2D at 0x115e22350>]"
      ]
     },
     "execution_count": 27,
     "metadata": {},
     "output_type": "execute_result"
    },
    {
     "data": {
      "image/png": "[encoded data removed]",
      "text/plain": [
       "<Figure size 432x288 with 1 Axes>"
      ]
     },
     "metadata": {
      "needs_background": "light"
     },
     "output_type": "display_data"
    }
   ],
   "source": [
    "plt.plot(x_vals, np.log(execution_times))"
   ]
  },
  {
   "cell_type": "markdown",
   "metadata": {},
   "source": [
    "#### logarithmic x and y axis: grows polynomially"
   ]
  },
  {
   "cell_type": "code",
   "execution_count": 28,
   "metadata": {
    "ExecuteTime": {
     "end_time": "2019-11-20T22:34:11.554204Z",
     "start_time": "2019-11-20T22:34:11.394425Z"
    },
    "scrolled": false
   },
   "outputs": [
    {
     "data": {
      "text/plain": [
       "[<matplotlib.lines.Line2D at 0x11ab8ef10>]"
      ]
     },
     "execution_count": 28,
     "metadata": {},
     "output_type": "execute_result"
    },
    {
     "data": {
      "image/png": "[encoded data removed]",
      "text/plain": [
       "<Figure size 432x288 with 1 Axes>"
      ]
     },
     "metadata": {
      "needs_background": "light"
     },
     "output_type": "display_data"
    }
   ],
   "source": [
    "plt.plot(np.log(x_vals), np.log(execution_times))"
   ]
  },
  {
   "cell_type": "markdown",
   "metadata": {},
   "source": [
    "# Result"
   ]
  },
  {
   "cell_type": "markdown",
   "metadata": {},
   "source": [
    "From a starting value of $n=3$ we have here an approximately straight line in the fourth graph. This gives us the information that this is of polynomial complexity."
   ]
  },
  {
   "cell_type": "code",
   "execution_count": 29,
   "metadata": {
    "ExecuteTime": {
     "end_time": "2019-11-20T22:34:15.441904Z",
     "start_time": "2019-11-20T22:34:14.885012Z"
    }
   },
   "outputs": [],
   "source": [
    "from scipy import stats\n",
    "#import statsmodels.api as sm\n",
    "\n",
    "def show_with_reg(xfunc=lambda x:x, yfunc=lambda y:y):\n",
    "    # cuting the first elements until the linear line begins\n",
    "    epsilon = 3\n",
    "    a = xfunc(x_vals)[epsilon:]\n",
    "    b = yfunc(execution_times)[epsilon:]\n",
    "\n",
    "    reg = stats.linregress(a, b)\n",
    "    reg_vals = [y * reg.slope + reg.intercept for y in a]\n",
    "\n",
    "    #lin_reg = sm.OLS(b,a).fit()\n",
    "    #print(lin_reg.summary())\n",
    "    \n",
    "    print(\"The slope is {:.3}.\".format(reg.slope))\n",
    "    \n",
    "    print(stats.ttest_rel(b, reg_vals))\n",
    "\n",
    "    plt.plot(a, b, label=\"Data\")\n",
    "    plt.plot(a, reg_vals, label=\"Fitted linear function {:.3}x+({:.3})\".format(reg.slope, reg.intercept))\n",
    "    plt.legend(loc='upper left')"
   ]
  },
  {
   "cell_type": "markdown",
   "metadata": {},
   "source": [
    "### More or less fits linear growth"
   ]
  },
  {
   "cell_type": "code",
   "execution_count": 30,
   "metadata": {
    "ExecuteTime": {
     "end_time": "2019-11-20T22:34:18.275436Z",
     "start_time": "2019-11-20T22:34:18.073218Z"
    },
    "scrolled": true
   },
   "outputs": [
    {
     "name": "stdout",
     "output_type": "stream",
     "text": [
      "The slope is 7.13e-05.\n",
      "Ttest_relResult(statistic=1.0460298089473183e-14, pvalue=0.9999999999999917)\n"
     ]
    },
    {
     "data": {
      "image/png": "[encoded data removed]",
      "text/plain": [
       "<Figure size 432x288 with 1 Axes>"
      ]
     },
     "metadata": {
      "needs_background": "light"
     },
     "output_type": "display_data"
    }
   ],
   "source": [
    "show_with_reg()"
   ]
  },
  {
   "cell_type": "markdown",
   "metadata": {},
   "source": [
    "### No fit for logarithmic growth"
   ]
  },
  {
   "cell_type": "code",
   "execution_count": 31,
   "metadata": {
    "ExecuteTime": {
     "end_time": "2019-11-20T22:34:21.116046Z",
     "start_time": "2019-11-20T22:34:20.916607Z"
    },
    "scrolled": true
   },
   "outputs": [
    {
     "name": "stdout",
     "output_type": "stream",
     "text": [
      "The slope is 0.975.\n",
      "Ttest_relResult(statistic=5.943472971165227e-15, pvalue=0.9999999999999953)\n"
     ]
    },
    {
     "data": {
      "image/png": "[encoded data removed]",
      "text/plain": [
       "<Figure size 432x288 with 1 Axes>"
      ]
     },
     "metadata": {
      "needs_background": "light"
     },
     "output_type": "display_data"
    }
   ],
   "source": [
    "show_with_reg(xfunc=np.log)"
   ]
  },
  {
   "cell_type": "markdown",
   "metadata": {},
   "source": [
    "### No fit for exponential growth"
   ]
  },
  {
   "cell_type": "code",
   "execution_count": 32,
   "metadata": {
    "ExecuteTime": {
     "end_time": "2019-11-20T22:34:23.887574Z",
     "start_time": "2019-11-20T22:34:23.695567Z"
    }
   },
   "outputs": [
    {
     "name": "stdout",
     "output_type": "stream",
     "text": [
      "The slope is 5.07e-05.\n",
      "Ttest_relResult(statistic=-5.216713912749288e-16, pvalue=0.9999999999999996)\n"
     ]
    },
    {
     "data": {
      "image/png": "[encoded data removed]",
      "text/plain": [
       "<Figure size 432x288 with 1 Axes>"
      ]
     },
     "metadata": {
      "needs_background": "light"
     },
     "output_type": "display_data"
    }
   ],
   "source": [
    "show_with_reg(yfunc=np.log)"
   ]
  },
  {
   "cell_type": "markdown",
   "metadata": {},
   "source": [
    "### Seems to grow polynomially"
   ]
  },
  {
   "cell_type": "code",
   "execution_count": 33,
   "metadata": {
    "ExecuteTime": {
     "end_time": "2019-11-20T22:34:26.659380Z",
     "start_time": "2019-11-20T22:34:26.463862Z"
    },
    "scrolled": true
   },
   "outputs": [
    {
     "name": "stdout",
     "output_type": "stream",
     "text": [
      "The slope is 1.14.\n",
      "Ttest_relResult(statistic=-7.830771525647399e-14, pvalue=0.9999999999999378)\n"
     ]
    },
    {
     "data": {
      "image/png": "[encoded data removed]",
      "text/plain": [
       "<Figure size 432x288 with 1 Axes>"
      ]
     },
     "metadata": {
      "needs_background": "light"
     },
     "output_type": "display_data"
    }
   ],
   "source": [
    "show_with_reg(xfunc=np.log, yfunc=np.log)"
   ]
  },
  {
   "cell_type": "markdown",
   "metadata": {},
   "source": [
    "The growth can be determined as $O(n^a)$ where $a$ is the slope of the regression function (approximately $O(n^{1.14})$."
   ]
  }
 ],
 "metadata": {
  "kernelspec": {
   "display_name": "Python 2",
   "language": "python",
   "name": "python2"
  },
  "language_info": {
   "codemirror_mode": {
    "name": "ipython",
    "version": 2
   },
   "file_extension": ".py",
   "mimetype": "text/x-python",
   "name": "python",
   "nbconvert_exporter": "python",
   "pygments_lexer": "ipython2",
   "version": "2.7.15"
  },
  "toc": {
   "base_numbering": 1,
   "nav_menu": {},
   "number_sections": false,
   "sideBar": true,
   "skip_h1_title": true,
   "title_cell": "Table of Contents",
   "title_sidebar": "Contents",
   "toc_cell": false,
   "toc_position": {
    "height": "calc(100% - 180px)",
    "left": "10px",
    "top": "150px",
    "width": "212.62867736816406px"
   },
   "toc_section_display": true,
   "toc_window_display": true
  },
  "varInspector": {
   "cols": {
    "lenName": 16,
    "lenType": 16,
    "lenVar": 40
   },
   "kernels_config": {
    "python": {
     "delete_cmd_postfix": "",
     "delete_cmd_prefix": "del ",
     "library": "var_list.py",
     "varRefreshCmd": "print(var_dic_list())"
    },
    "r": {
     "delete_cmd_postfix": ") ",
     "delete_cmd_prefix": "rm(",
     "library": "var_list.r",
     "varRefreshCmd": "cat(var_dic_list()) "
    }
   },
   "types_to_exclude": [
    "module",
    "function",
    "builtin_function_or_method",
    "instance",
    "_Feature"
   ],
   "window_display": false
  }
 },
 "nbformat": 4,
 "nbformat_minor": 2
}
