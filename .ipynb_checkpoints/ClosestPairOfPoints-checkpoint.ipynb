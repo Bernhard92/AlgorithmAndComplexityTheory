{
 "cells": [
  {
   "cell_type": "markdown",
   "metadata": {},
   "source": [
    "# Closest pair of points - 2 Dimensional"
   ]
  },
  {
   "cell_type": "code",
   "execution_count": 23,
   "metadata": {},
   "outputs": [],
   "source": [
    "import math\n",
    "import numpy as np\n",
    "import matplotlib.pyplot as plt\n",
    "import sys\n",
    "import time"
   ]
  },
  {
   "cell_type": "markdown",
   "metadata": {},
   "source": [
    "Calculate the distance between two points in a two dimensional grid"
   ]
  },
  {
   "cell_type": "code",
   "execution_count": 24,
   "metadata": {},
   "outputs": [],
   "source": [
    "def dist(p1, p2):\n",
    "    return (math.sqrt((p1[0] - p2[0])**2 + (p1[1] - p2[1])**2))"
   ]
  },
  {
   "cell_type": "markdown",
   "metadata": {},
   "source": [
    "Create 2 equally distributed arrays with ten elements each.\n",
    "These represent the x and y coordinates of 10 points in the two-dimensional coordinate system."
   ]
  },
  {
   "cell_type": "code",
   "execution_count": 26,
   "metadata": {},
   "outputs": [],
   "source": [
    "n = 100 # Number of elements\n",
    "x = np.random.uniform(-10, 10, n)\n",
    "y = np.random.uniform(-10, 10, n)\n",
    "points = np.column_stack((x, y))"
   ]
  },
  {
   "cell_type": "markdown",
   "metadata": {},
   "source": [
    "Plot all points"
   ]
  },
  {
   "cell_type": "code",
   "execution_count": 45,
   "metadata": {
    "scrolled": true
   },
   "outputs": [
    {
     "data": {
      "text/plain": [
       "<matplotlib.collections.PathCollection at 0x222856df448>"
      ]
     },
     "execution_count": 45,
     "metadata": {},
     "output_type": "execute_result"
    },
    {
     "data": {
      "image/png": "[encoded data removed]",
      "text/plain": [
       "<Figure size 432x288 with 1 Axes>"
      ]
     },
     "metadata": {
      "needs_background": "light"
     },
     "output_type": "display_data"
    }
   ],
   "source": [
    "plt.scatter(points[:,0], points[:,1])"
   ]
  },
  {
   "cell_type": "markdown",
   "metadata": {},
   "source": [
    "## Brute force calculation with an $O(n^2)$ complexity"
   ]
  },
  {
   "cell_type": "code",
   "execution_count": 28,
   "metadata": {},
   "outputs": [],
   "source": [
    "def dist_matrix(points):\n",
    "    distance_matrix = np.ndarray((len(points), len(points)))\n",
    "    min_distance = sys.maxsize\n",
    "    point1 = None\n",
    "    point2 = None\n",
    "    for i in range(len(points)):\n",
    "        for j in range(len(points)):\n",
    "            distance = dist(points[i], points[j])\n",
    "            distance_matrix[i][j] = distance\n",
    "            if(distance > 0 and distance < min_distance):\n",
    "                min_distance = distance\n",
    "                point1 = points[i]\n",
    "                point2 = points[j]\n",
    "    \n",
    "    return distance_matrix, min_distance, point1, point2"
   ]
  },
  {
   "cell_type": "code",
   "execution_count": 29,
   "metadata": {},
   "outputs": [],
   "source": [
    "start_time = time.time()\n",
    "distance_matrix, distance, p1, p2 = dist_matrix(points)\n",
    "end_time = time.time()"
   ]
  },
  {
   "cell_type": "code",
   "execution_count": 95,
   "metadata": {},
   "outputs": [
    {
     "name": "stdout",
     "output_type": "stream",
     "text": [
      "Min distance:  0.0504030469182896\n",
      "Between: \n",
      "[69.2026382  56.87926865]\n",
      "[69.43049523 57.37554355]\n",
      "Time needed:  0.012965679168701172\n"
     ]
    }
   ],
   "source": [
    "print('Min distance: ', distance)\n",
    "print('Between: ')\n",
    "print(p1)\n",
    "print(p2)\n",
    "print('Time needed: ',  end_time - start_time)"
   ]
  },
  {
   "cell_type": "code",
   "execution_count": 96,
   "metadata": {},
   "outputs": [
    {
     "name": "stdout",
     "output_type": "stream",
     "text": [
      "21.60188229003899\n",
      "21.60188229003899 should be the same as above\n",
      "0.0 should be zero\n"
     ]
    }
   ],
   "source": [
    "print(distance_matrix[1,2])\n",
    "print(distance_matrix[2,1], 'should be the same as above')\n",
    "print(distance_matrix[2,2], 'should be zero')"
   ]
  },
  {
   "cell_type": "markdown",
   "metadata": {},
   "source": [
    "## Divide and Conquer"
   ]
  },
  {
   "cell_type": "markdown",
   "metadata": {},
   "source": [
    "#### Sort the list in O (n log n) using heapsort"
   ]
  },
  {
   "cell_type": "code",
   "execution_count": 32,
   "metadata": {},
   "outputs": [],
   "source": [
    "sorted_x = points[points[:,0].argsort(kind='heapsort')]\n",
    "sorted_y = points[points[:,1].argsort(kind='heapsort')]"
   ]
  },
  {
   "cell_type": "code",
   "execution_count": 35,
   "metadata": {},
   "outputs": [],
   "source": [
    "def plot_cut(q, r):\n",
    "    \"\"\"Plote the point in the graph coloring \n",
    "    the to separated groups in blue and read\"\"\"\n",
    "    plt.scatter(q[:,0], q[:,1], c='b', label='q')\n",
    "    plt.scatter(r[:,0], r[:,1], c='r', label='r')\n",
    "    plt.legend(loc='upper left')\n",
    "    plt.show()"
   ]
  },
  {
   "cell_type": "code",
   "execution_count": 36,
   "metadata": {},
   "outputs": [],
   "source": [
    "def closest_pair(x, y):\n",
    "    # Base case: Calc the distance of the points if the number of points is less then or equal 3\n",
    "    if(len(x) <= 3):\n",
    "        _, min_distance, p1, p2 = dist_matrix(x)\n",
    "        return min_distance, p1, p2\n",
    "    else:\n",
    "        # Divide the quantity S into two equal subquantities S1 and S2, separated by the vertical V. \n",
    "        mid = len(x) // 2\n",
    "        qx = x[:mid]\n",
    "        rx = x[mid:]\n",
    "        \n",
    "        # plot_cut(qx, rx)\n",
    "        \n",
    "        midpoint = x[len(x)//2][0]\n",
    "        qy = []\n",
    "        ry = []\n",
    "        for i in y:\n",
    "            if i[0] <= midpoint:\n",
    "                qy.append(i)\n",
    "            else:\n",
    "                ry.append(i)\n",
    "        \n",
    "        # Solve the problem recursively on S1 and S2.\n",
    "        q_min_distance, q1, q2 = closest_pair(qx, qy)\n",
    "        r_min_distance, r1, r2 = closest_pair(rx, ry)\n",
    "          \n",
    "        \n",
    "        if q_min_distance < r_min_distance:\n",
    "            d = q_min_distance\n",
    "            cp = (q1, q2)\n",
    "        else:\n",
    "            d = r_min_distance\n",
    "            cp = (r1, r2)\n",
    "            \n",
    "        v_min_distance, pair = closest_strip_pair(x, y, d, cp)\n",
    "        \n",
    "        if v_min_distance < d:\n",
    "            d = v_min_distance\n",
    "            cp = pair\n",
    "            \n",
    "        return d, cp[0], cp[1]"
   ]
  },
  {
   "cell_type": "code",
   "execution_count": 37,
   "metadata": {},
   "outputs": [],
   "source": [
    "def closest_strip_pair(x, y, d, closest_pair):\n",
    "    midpoint = x[len(x) // 2][0]\n",
    "    \n",
    "    # Get every point that is inside the strip\n",
    "    s_y = [i for i in y if midpoint - d <= i[0] <= midpoint + d]\n",
    "    \n",
    "    closes_distance = d\n",
    "    for i in range(len(s_y)):\n",
    "        for j in range(i + 1, min(i + 7, len(s_y))):\n",
    "            q = s_y[i]\n",
    "            r = s_y[j]\n",
    "            distance = dist(q, r)\n",
    "            if distance < closes_distance:\n",
    "                best = distance\n",
    "                closest_pair = (q, r)\n",
    "    \n",
    "    return d, closest_pair"
   ]
  },
  {
   "cell_type": "code",
   "execution_count": 38,
   "metadata": {},
   "outputs": [],
   "source": [
    "start_time = time.time()\n",
    "d, p1, p2 = closest_pair(sorted_x, sorted_y)\n",
    "end_time = time.time()"
   ]
  },
  {
   "cell_type": "code",
   "execution_count": 39,
   "metadata": {},
   "outputs": [
    {
     "name": "stdout",
     "output_type": "stream",
     "text": [
      "The closest points are:  [-5.52509103  5.52340838]  and  [-5.4480771   5.61701685]\n",
      "With a distance of;  0.12121753381310649\n",
      "Time needed for calculation:  0.0019943714141845703\n"
     ]
    }
   ],
   "source": [
    "print('The closest points are: ', p1, ' and ', p2)\n",
    "print('With a distance of; ', d)\n",
    "print('Time needed for calculation: ', end_time - start_time)"
   ]
  },
  {
   "cell_type": "markdown",
   "metadata": {},
   "source": [
    "## Benchmarks"
   ]
  },
  {
   "cell_type": "code",
   "execution_count": 74,
   "metadata": {},
   "outputs": [],
   "source": [
    "n_begin = 1\n",
    "n_end = 200\n",
    "\n",
    "number_of_repeatings = 5"
   ]
  },
  {
   "cell_type": "markdown",
   "metadata": {},
   "source": [
    "#### Benchmark 1\n",
    "\\begin{align*}\n",
    "(n^2_1, t_1), (n^2_2, t_2),(n^2_3, t_3)...\n",
    "\\end{align*}"
   ]
  },
  {
   "cell_type": "code",
   "execution_count": 92,
   "metadata": {
    "scrolled": true
   },
   "outputs": [
    {
     "data": {
      "text/plain": [
       "[<matplotlib.lines.Line2D at 0x222886da8c8>]"
      ]
     },
     "execution_count": 92,
     "metadata": {},
     "output_type": "execute_result"
    },
    {
     "data": {
      "image/png": "[encoded data removed]",
      "text/plain": [
       "<Figure size 432x288 with 1 Axes>"
      ]
     },
     "metadata": {
      "needs_background": "light"
     },
     "output_type": "display_data"
    }
   ],
   "source": [
    "execution_times = []\n",
    "\n",
    "for i in range(n_begin, n_end):\n",
    "    time_needed = 0\n",
    "    for j in range(number_of_repeatings):\n",
    "        x = np.random.uniform(-100, 100, i**2)\n",
    "        y = np.random.uniform(-100, 100, i**2)\n",
    "        points = np.column_stack((x, y))\n",
    "        # sort the list\n",
    "        sorted_x = points[points[:,0].argsort(kind='heapsort')]\n",
    "        sorted_y = points[points[:,1].argsort(kind='heapsort')]\n",
    "\n",
    "        start_time = time.time()\n",
    "        d, p1, p2 = closest_pair(sorted_x, sorted_y)\n",
    "        end_time = time.time()\n",
    "        time_needed += end_time - start_time\n",
    "        \n",
    "    execution_times.append(time_needed/number_of_repeatings)\n",
    "\n",
    "plt.plot(execution_times)"
   ]
  },
  {
   "cell_type": "markdown",
   "metadata": {},
   "source": [
    "#### Benchmark 2\n",
    "\\begin{align*}\n",
    "(n_1(log n_1)^2, t_1), (n_2(log n_2)^2, t_2),(n_3(log n_3)^2, t_3)...\n",
    "\\end{align*}"
   ]
  },
  {
   "cell_type": "code",
   "execution_count": 93,
   "metadata": {
    "scrolled": true
   },
   "outputs": [
    {
     "data": {
      "text/plain": [
       "[<matplotlib.lines.Line2D at 0x2228800c4c8>]"
      ]
     },
     "execution_count": 93,
     "metadata": {},
     "output_type": "execute_result"
    },
    {
     "data": {
      "image/png": "[encoded data removed]",
      "text/plain": [
       "<Figure size 432x288 with 1 Axes>"
      ]
     },
     "metadata": {
      "needs_background": "light"
     },
     "output_type": "display_data"
    }
   ],
   "source": [
    "execution_times = []\n",
    "\n",
    "for i in range(n_begin, n_end):\n",
    "    time_needed = 0\n",
    "    for j in range(number_of_repeatings):\n",
    "        x = np.random.uniform(-100, 100, round(i * (math.log(i)**2)))\n",
    "        y = np.random.uniform(-100, 100, round(i * (math.log(i)**2)))\n",
    "        points = np.column_stack((x, y))\n",
    "        # sort the list\n",
    "        sorted_x = points[points[:,0].argsort(kind='heapsort')]\n",
    "        sorted_y = points[points[:,1].argsort(kind='heapsort')]\n",
    "\n",
    "        start_time = time.time()\n",
    "        d, p1, p2 = closest_pair(sorted_x, sorted_y)\n",
    "        end_time = time.time()\n",
    "        time_needed += end_time - start_time\n",
    "        \n",
    "    execution_times.append(time_needed/number_of_repeatings)\n",
    "\n",
    "plt.plot(execution_times)"
   ]
  },
  {
   "cell_type": "markdown",
   "metadata": {},
   "source": [
    "#### Benchmark 3\n",
    "\\begin{align*}\n",
    "(n_1 log n_1, t_1), (n_2 log n_2, t_2),(n_3 log n_3, t_3)...\n",
    "\\end{align*}"
   ]
  },
  {
   "cell_type": "code",
   "execution_count": 94,
   "metadata": {},
   "outputs": [
    {
     "data": {
      "text/plain": [
       "[<matplotlib.lines.Line2D at 0x222880ac148>]"
      ]
     },
     "execution_count": 94,
     "metadata": {},
     "output_type": "execute_result"
    },
    {
     "data": {
      "image/png": "[encoded data removed]",
      "text/plain": [
       "<Figure size 432x288 with 1 Axes>"
      ]
     },
     "metadata": {
      "needs_background": "light"
     },
     "output_type": "display_data"
    }
   ],
   "source": [
    "execution_times = []\n",
    "\n",
    "for i in range(n_begin, n_end):\n",
    "    time_needed = 0\n",
    "    for j in range(number_of_repeatings):\n",
    "        x = np.random.uniform(-100, 100, round(i * math.log(i)))\n",
    "        y = np.random.uniform(-100, 100, round(i * math.log(i)))\n",
    "        points = np.column_stack((x, y))\n",
    "        # sort the list\n",
    "        sorted_x = points[points[:,0].argsort(kind='heapsort')]\n",
    "        sorted_y = points[points[:,1].argsort(kind='heapsort')]\n",
    "\n",
    "        start_time = time.time()\n",
    "        d, p1, p2 = closest_pair(sorted_x, sorted_y)\n",
    "        end_time = time.time()\n",
    "        time_needed += end_time - start_time\n",
    "        \n",
    "    execution_times.append(time_needed/number_of_repeatings)\n",
    "\n",
    "plt.plot(execution_times)"
   ]
  },
  {
   "cell_type": "markdown",
   "metadata": {},
   "source": [
    "The result of the third sequence most closely approximates a linear line.\n",
    "This is gives us a hint of the $O(n^3)$ complexity"
   ]
  },
  {
   "cell_type": "markdown",
   "metadata": {},
   "source": [
    "## Empirical determination of complexity"
   ]
  },
  {
   "cell_type": "code",
   "execution_count": 155,
   "metadata": {},
   "outputs": [
    {
     "data": {
      "text/plain": [
       "[<matplotlib.lines.Line2D at 0x2228a236588>]"
      ]
     },
     "execution_count": 155,
     "metadata": {},
     "output_type": "execute_result"
    },
    {
     "data": {
      "image/png": "[encoded data removed]",
      "text/plain": [
       "<Figure size 432x288 with 1 Axes>"
      ]
     },
     "metadata": {
      "needs_background": "light"
     },
     "output_type": "display_data"
    }
   ],
   "source": [
    "n_begin = 1\n",
    "n_end = 1000\n",
    "number_of_repeatings = 20\n",
    "execution_times = []\n",
    "\n",
    "for i in range(n_begin, n_end):\n",
    "    time_needed = 0\n",
    "    for j in range(number_of_repeatings):\n",
    "        x = np.random.uniform(-100, 100, i)\n",
    "        y = np.random.uniform(-100, 100, i)\n",
    "        points = np.column_stack((x, y))\n",
    "        # sort the list\n",
    "        sorted_x = points[points[:,0].argsort(kind='heapsort')]\n",
    "        sorted_y = points[points[:,1].argsort(kind='heapsort')]\n",
    "\n",
    "        start_time = time.time()\n",
    "        d, p1, p2 = closest_pair(sorted_x, sorted_y)\n",
    "        end_time = time.time()\n",
    "        time_needed += end_time - start_time\n",
    "        \n",
    "    execution_times.append(time_needed/number_of_repeatings)\n",
    "\n",
    "plt.plot(execution_times)"
   ]
  },
  {
   "cell_type": "markdown",
   "metadata": {},
   "source": [
    "#### Add smallest possible number to avoid logarithm of zero"
   ]
  },
  {
   "cell_type": "code",
   "execution_count": 157,
   "metadata": {},
   "outputs": [],
   "source": [
    "execution_times = [time + sys.float_info.epsilon for time in execution_times]"
   ]
  },
  {
   "cell_type": "code",
   "execution_count": 158,
   "metadata": {},
   "outputs": [
    {
     "data": {
      "text/plain": [
       "[<matplotlib.lines.Line2D at 0x2228a7469c8>]"
      ]
     },
     "execution_count": 158,
     "metadata": {},
     "output_type": "execute_result"
    },
    {
     "data": {
      "image/png": "[encoded data removed]",
      "text/plain": [
       "<Figure size 432x288 with 1 Axes>"
      ]
     },
     "metadata": {
      "needs_background": "light"
     },
     "output_type": "display_data"
    }
   ],
   "source": [
    "# Log to y axis\n",
    "plt.plot(range(1, n_end), np.log(execution_times))"
   ]
  },
  {
   "cell_type": "code",
   "execution_count": 159,
   "metadata": {},
   "outputs": [
    {
     "data": {
      "text/plain": [
       "[<matplotlib.lines.Line2D at 0x2228a76f2c8>]"
      ]
     },
     "execution_count": 159,
     "metadata": {},
     "output_type": "execute_result"
    },
    {
     "data": {
      "image/png": "[encoded data removed]",
      "text/plain": [
       "<Figure size 432x288 with 1 Axes>"
      ]
     },
     "metadata": {
      "needs_background": "light"
     },
     "output_type": "display_data"
    }
   ],
   "source": [
    "# Log to x axis\n",
    "plt.plot(np.log(range(1, n_end)), execution_times)"
   ]
  },
  {
   "cell_type": "code",
   "execution_count": 160,
   "metadata": {},
   "outputs": [
    {
     "data": {
      "text/plain": [
       "[<matplotlib.lines.Line2D at 0x2228a7f6dc8>]"
      ]
     },
     "execution_count": 160,
     "metadata": {},
     "output_type": "execute_result"
    },
    {
     "data": {
      "image/png": "[encoded data removed]",
      "text/plain": [
       "<Figure size 432x288 with 1 Axes>"
      ]
     },
     "metadata": {
      "needs_background": "light"
     },
     "output_type": "display_data"
    }
   ],
   "source": [
    "# Log to x and yaxis\n",
    "plt.plot(np.log(range(1, n_end)), np.log(execution_times))"
   ]
  },
  {
   "cell_type": "markdown",
   "metadata": {},
   "source": [
    "From a starting value of $n=3$ we have here an approximately straight line. This gives us information that this is a polynomial complexity."
   ]
  },
  {
   "cell_type": "code",
   "execution_count": 161,
   "metadata": {},
   "outputs": [
    {
     "data": {
      "text/plain": [
       "LinregressResult(slope=1.2405338176921075, intercept=-11.997483068222497, rvalue=0.998405678417696, pvalue=0.0, stderr=0.002229018938094403)"
      ]
     },
     "execution_count": 161,
     "metadata": {},
     "output_type": "execute_result"
    },
    {
     "data": {
      "image/png": "[encoded data removed]",
      "text/plain": [
       "<Figure size 432x288 with 1 Axes>"
      ]
     },
     "metadata": {
      "needs_background": "light"
     },
     "output_type": "display_data"
    }
   ],
   "source": [
    "from scipy.stats import linregress\n",
    "# cuting the first elements until the linear line begins\n",
    "epsilon = 7\n",
    "a = np.log(range(1, n_end))[epsilon:]\n",
    "b = np.log(execution_times)[epsilon:]\n",
    "plt.plot(a, b)\n",
    "\n",
    "linregress(a, b)"
   ]
  }
 ],
 "metadata": {
  "kernelspec": {
   "display_name": "Python 3",
   "language": "python",
   "name": "python3"
  },
  "language_info": {
   "codemirror_mode": {
    "name": "ipython",
    "version": 3
   },
   "file_extension": ".py",
   "mimetype": "text/x-python",
   "name": "python",
   "nbconvert_exporter": "python",
   "pygments_lexer": "ipython3",
   "version": "3.7.4"
  },
  "toc": {
   "base_numbering": 1,
   "nav_menu": {},
   "number_sections": false,
   "sideBar": true,
   "skip_h1_title": true,
   "title_cell": "Table of Contents",
   "title_sidebar": "Contents",
   "toc_cell": false,
   "toc_position": {
    "height": "calc(100% - 180px)",
    "left": "10px",
    "top": "150px",
    "width": "512px"
   },
   "toc_section_display": true,
   "toc_window_display": true
  },
  "varInspector": {
   "cols": {
    "lenName": 16,
    "lenType": 16,
    "lenVar": 40
   },
   "kernels_config": {
    "python": {
     "delete_cmd_postfix": "",
     "delete_cmd_prefix": "del ",
     "library": "var_list.py",
     "varRefreshCmd": "print(var_dic_list())"
    },
    "r": {
     "delete_cmd_postfix": ") ",
     "delete_cmd_prefix": "rm(",
     "library": "var_list.r",
     "varRefreshCmd": "cat(var_dic_list()) "
    }
   },
   "types_to_exclude": [
    "module",
    "function",
    "builtin_function_or_method",
    "instance",
    "_Feature"
   ],
   "window_display": false
  }
 },
 "nbformat": 4,
 "nbformat_minor": 2
}
