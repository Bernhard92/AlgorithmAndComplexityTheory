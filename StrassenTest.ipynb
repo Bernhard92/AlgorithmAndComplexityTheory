{
 "cells": [
  {
   "cell_type": "markdown",
   "metadata": {
    "ExecuteTime": {
     "end_time": "2019-12-18T13:01:22.372567Z",
     "start_time": "2019-12-18T13:01:22.367717Z"
    }
   },
   "source": [
    "# Strassen Algorithm"
   ]
  },
  {
   "cell_type": "code",
   "execution_count": 17,
   "metadata": {
    "ExecuteTime": {
     "end_time": "2019-12-18T18:25:41.856187Z",
     "start_time": "2019-12-18T18:25:41.331951Z"
    }
   },
   "outputs": [],
   "source": [
    "from StrassenMul import StrassenMul\n",
    "from scipy import stats\n",
    "\n",
    "import gc\n",
    "import math\n",
    "import matplotlib.pyplot as plt\n",
    "import random\n",
    "import timeit"
   ]
  },
  {
   "cell_type": "markdown",
   "metadata": {},
   "source": [
    "## Small Example"
   ]
  },
  {
   "cell_type": "code",
   "execution_count": 3,
   "metadata": {
    "ExecuteTime": {
     "end_time": "2019-12-18T18:22:42.196508Z",
     "start_time": "2019-12-18T18:22:42.191902Z"
    }
   },
   "outputs": [],
   "source": [
    "a = [[1, 2, 3, 4], [5, 6, 7, 8], [9, 10, 11, 12], [13, 14, 15, 16]]\n",
    "b = [[17, 18, 19, 20], [21, 22, 23, 24], [25, 26, 27, 28], [29, 30, 31, 32]]"
   ]
  },
  {
   "cell_type": "code",
   "execution_count": 4,
   "metadata": {
    "ExecuteTime": {
     "end_time": "2019-12-18T18:22:42.525617Z",
     "start_time": "2019-12-18T18:22:42.521647Z"
    }
   },
   "outputs": [],
   "source": [
    "sm = StrassenMul(a, b)"
   ]
  },
  {
   "cell_type": "code",
   "execution_count": 5,
   "metadata": {
    "ExecuteTime": {
     "end_time": "2019-12-18T18:22:42.788220Z",
     "start_time": "2019-12-18T18:22:42.784080Z"
    }
   },
   "outputs": [
    {
     "name": "stdout",
     "output_type": "stream",
     "text": [
      "[[[[1, 2], [5, 6]], [[3, 4], [7, 8]]], [[[9, 10], [13, 14]], [[11, 12], [15, 16]]]]\n"
     ]
    }
   ],
   "source": [
    " print(StrassenMul._split_array(a))"
   ]
  },
  {
   "cell_type": "code",
   "execution_count": 6,
   "metadata": {
    "ExecuteTime": {
     "end_time": "2019-12-18T18:22:43.076059Z",
     "start_time": "2019-12-18T18:22:43.072599Z"
    }
   },
   "outputs": [
    {
     "name": "stdout",
     "output_type": "stream",
     "text": [
      "s: [[250, 260, 270, 280], [618, 644, 670, 696], [986, 1028, 1070, 1112], [1354, 1412, 1470, 1528]]\n"
     ]
    }
   ],
   "source": [
    "print(\"s:\",sm.mul_s())"
   ]
  },
  {
   "cell_type": "code",
   "execution_count": 7,
   "metadata": {
    "ExecuteTime": {
     "end_time": "2019-12-18T18:22:43.405964Z",
     "start_time": "2019-12-18T18:22:43.399843Z"
    }
   },
   "outputs": [
    {
     "name": "stdout",
     "output_type": "stream",
     "text": [
      "n: [[250, 260, 270, 280], [618, 644, 670, 696], [986, 1028, 1070, 1112], [1354, 1412, 1470, 1528]]\n"
     ]
    }
   ],
   "source": [
    "print(\"n:\",sm.mul_naive())"
   ]
  },
  {
   "cell_type": "markdown",
   "metadata": {},
   "source": [
    "Strassen algorithm gives the same result as the naive matrix multiplication algorithm for given matrices:"
   ]
  },
  {
   "cell_type": "code",
   "execution_count": 8,
   "metadata": {
    "ExecuteTime": {
     "end_time": "2019-12-18T18:22:43.717019Z",
     "start_time": "2019-12-18T18:22:43.710375Z"
    }
   },
   "outputs": [
    {
     "data": {
      "text/plain": [
       "True"
      ]
     },
     "execution_count": 8,
     "metadata": {},
     "output_type": "execute_result"
    }
   ],
   "source": [
    "sm.mul_s() == sm.mul_naive()"
   ]
  },
  {
   "cell_type": "markdown",
   "metadata": {},
   "source": [
    "## Actual Tests"
   ]
  },
  {
   "cell_type": "code",
   "execution_count": 128,
   "metadata": {
    "ExecuteTime": {
     "end_time": "2019-12-18T21:21:24.576913Z",
     "start_time": "2019-12-18T21:21:24.571951Z"
    }
   },
   "outputs": [],
   "source": [
    "number_of_repititions = 2\n",
    "n_begin = 2\n",
    "n_end = 20"
   ]
  },
  {
   "cell_type": "markdown",
   "metadata": {},
   "source": [
    "Use ```timeit```for measuring the time used\n",
    "https://docs.python.org/3/library/timeit.html\n",
    "\n",
    "The garbage collector gets triggered inbetween each test, but not between repititions of the same test.\n",
    "\n",
    "The number in each cell of the matrix is between $1$ and $100$ ($\\forall a_{ij} \\in A: 1\\leq a_{ij} \\leq 100$)."
   ]
  },
  {
   "cell_type": "code",
   "execution_count": 10,
   "metadata": {
    "ExecuteTime": {
     "end_time": "2019-12-18T18:22:44.338318Z",
     "start_time": "2019-12-18T18:22:44.329914Z"
    }
   },
   "outputs": [],
   "source": [
    "def execute_test(begin, end, func):\n",
    "    execution_times = []\n",
    "    for i in range(n_begin,n_end):\n",
    "        n = func(i)\n",
    "        print(i, n)\n",
    "\n",
    "        a = [[random.randint(1,100) for x in range(n)] for y in range(n)]\n",
    "        b = [[random.randint(1,100) for x in range(n)] for y in range(n)]\n",
    "\n",
    "        sm = StrassenMul(a, b)\n",
    "\n",
    "        gc.collect()\n",
    "        time_needed2 = timeit.timeit(sm.mul_naive, number=number_of_repititions)    \n",
    "        gc.collect()\n",
    "        time_needed1 = timeit.timeit(sm.mul_s, number=number_of_repititions)\n",
    "\n",
    "        entry = (time_needed1 / number_of_repititions, time_needed2 / number_of_repititions)\n",
    "        print(entry)\n",
    "        execution_times.append(entry)\n",
    "    return execution_times"
   ]
  },
  {
   "cell_type": "markdown",
   "metadata": {},
   "source": [
    "**Function used for selecting values on the x axis**"
   ]
  },
  {
   "cell_type": "code",
   "execution_count": 116,
   "metadata": {
    "ExecuteTime": {
     "end_time": "2019-12-18T21:17:35.338474Z",
     "start_time": "2019-12-18T21:17:35.330738Z"
    }
   },
   "outputs": [],
   "source": [
    "def gen_func(i):\n",
    "    n = int(1.7**i) // 3 + 50\n",
    "    n += n % 2\n",
    "    return n"
   ]
  },
  {
   "cell_type": "markdown",
   "metadata": {},
   "source": [
    "**Actually perform tests**"
   ]
  },
  {
   "cell_type": "code",
   "execution_count": null,
   "metadata": {
    "ExecuteTime": {
     "end_time": "2019-12-18T21:17:40.848124Z",
     "start_time": "2019-12-18T21:17:37.068949Z"
    }
   },
   "outputs": [],
   "source": [
    "execution_times = execute_test(n_begin, n_end, gen_func)"
   ]
  },
  {
   "cell_type": "markdown",
   "metadata": {},
   "source": [
    "**Stored Result**\n",
    "\n",
    "Ran before, but takes some time"
   ]
  },
  {
   "cell_type": "code",
   "execution_count": 118,
   "metadata": {
    "ExecuteTime": {
     "end_time": "2019-12-18T21:17:48.501949Z",
     "start_time": "2019-12-18T21:17:48.496509Z"
    }
   },
   "outputs": [],
   "source": [
    "execution_times = (\n",
    "(0.023028587000226253, 0.021950408999600768),\n",
    "(0.05400904950010954, 0.02511064950022046),\n",
    "(0.031365172500045446, 0.025500247000309173),\n",
    "(0.02895169600014924, 0.027607906999946863),\n",
    "(0.03622940800005381, 0.034044164499846374),\n",
    "(0.39772508650003147, 0.04588434049992429),\n",
    "(0.06954833700001473, 0.07062140049993104),\n",
    "(0.12275866749996567, 0.1283580424997126),\n",
    "(0.2618281484997169, 0.27177629249990787),\n",
    "(0.685324093500185, 0.7390732769999886),\n",
    "(2.125755349499741, 2.6350586140001724),\n",
    "(7.88076137049984, 10.779882045500017),\n",
    "(32.2011498490001, 44.636283876499874),\n",
    "(137.90924777650025, 198.3757300555003),\n",
    "(576.0338819325002, 909.3076877150002))"
   ]
  },
  {
   "cell_type": "markdown",
   "metadata": {
    "ExecuteTime": {
     "end_time": "2019-12-18T18:45:53.042106Z",
     "start_time": "2019-12-18T18:45:53.039657Z"
    }
   },
   "source": [
    "### Results\n",
    "#### Scaled linearly"
   ]
  },
  {
   "cell_type": "code",
   "execution_count": 129,
   "metadata": {
    "ExecuteTime": {
     "end_time": "2019-12-18T21:21:29.161421Z",
     "start_time": "2019-12-18T21:21:28.936813Z"
    }
   },
   "outputs": [
    {
     "data": {
      "text/plain": [
       "<matplotlib.legend.Legend at 0x122112bd0>"
      ]
     },
     "execution_count": 129,
     "metadata": {},
     "output_type": "execute_result"
    },
    {
     "data": {
      "image/png": "[encoded data removed]",
      "text/plain": [
       "<Figure size 432x288 with 1 Axes>"
      ]
     },
     "metadata": {
      "needs_background": "light"
     },
     "output_type": "display_data"
    }
   ],
   "source": [
    "x_vals = [gen_func(i) for i in range(n_begin, len(execution_times)+n_begin)]\n",
    "plt.plot(x_vals,[x[0] for x in execution_times], label=\"Strassen\")\n",
    "plt.plot(x_vals,[x[1] for x in execution_times], label=\"naive\")\n",
    "plt.legend(loc='upper left')"
   ]
  },
  {
   "cell_type": "markdown",
   "metadata": {},
   "source": [
    "#### Scaled logarithmically\n",
    "Scaled on both axis"
   ]
  },
  {
   "cell_type": "code",
   "execution_count": 130,
   "metadata": {
    "ExecuteTime": {
     "end_time": "2019-12-18T21:21:30.229015Z",
     "start_time": "2019-12-18T21:21:30.016355Z"
    }
   },
   "outputs": [
    {
     "data": {
      "text/plain": [
       "<matplotlib.legend.Legend at 0x122a875d0>"
      ]
     },
     "execution_count": 130,
     "metadata": {},
     "output_type": "execute_result"
    },
    {
     "data": {
      "image/png": "[encoded data removed]",
      "text/plain": [
       "<Figure size 432x288 with 1 Axes>"
      ]
     },
     "metadata": {
      "needs_background": "light"
     },
     "output_type": "display_data"
    }
   ],
   "source": [
    "x_vals = [math.log(gen_func(i)) for i in range(n_begin, len(execution_times)+n_begin)]\n",
    "plt.plot(x_vals,[math.log(x[0]) for x in execution_times], label=\"Strassen\")\n",
    "plt.plot(x_vals,[math.log(x[1]) for x in execution_times], label=\"naive\")\n",
    "plt.legend(loc='upper left')"
   ]
  },
  {
   "cell_type": "markdown",
   "metadata": {},
   "source": [
    "### Determining the Slopes of the Result"
   ]
  },
  {
   "cell_type": "code",
   "execution_count": 135,
   "metadata": {
    "ExecuteTime": {
     "end_time": "2019-12-18T21:22:17.329950Z",
     "start_time": "2019-12-18T21:22:17.322058Z"
    }
   },
   "outputs": [],
   "source": [
    "def show_with_reg(y_data, name):\n",
    "    # cutting the first elements until the linear part begins\n",
    "    epsilon = 6\n",
    "    a = [math.log(gen_func(i)) for i in range(epsilon + n_begin, len(y_data) + n_begin)]\n",
    "    b = y_data[epsilon:]\n",
    "\n",
    "    print(len(a), len(b))\n",
    "    \n",
    "    reg = stats.linregress(a, b)\n",
    "    reg_vals = [y * reg.slope + reg.intercept for y in a]\n",
    "    \n",
    "    print(\"The slope is {:.3}.\".format(reg.slope))\n",
    "    \n",
    "    print(stats.ttest_rel(b, reg_vals))\n",
    "\n",
    "    plt.plot(a, b, label= \"log of {}\".format(name))\n",
    "    plt.plot(a, reg_vals, label=\"Fitted lin fun {:.3}x+({:.3}) for {}\".format(reg.slope, reg.intercept, name))\n",
    "    plt.legend(loc='upper left')"
   ]
  },
  {
   "cell_type": "markdown",
   "metadata": {},
   "source": [
    "#### Call the above Function"
   ]
  },
  {
   "cell_type": "code",
   "execution_count": 136,
   "metadata": {
    "ExecuteTime": {
     "end_time": "2019-12-18T21:22:18.299048Z",
     "start_time": "2019-12-18T21:22:18.058788Z"
    }
   },
   "outputs": [
    {
     "name": "stdout",
     "output_type": "stream",
     "text": [
      "9 9\n",
      "The slope is 2.91.\n",
      "Ttest_relResult(statistic=4.989018505617743e-13, pvalue=0.9999999999996141)\n",
      "9 9\n",
      "The slope is 3.05.\n",
      "Ttest_relResult(statistic=1.6849421054961462e-13, pvalue=0.9999999999998697)\n"
     ]
    },
    {
     "data": {
      "image/png": "[encoded data removed]",
      "text/plain": [
       "<Figure size 432x288 with 1 Axes>"
      ]
     },
     "metadata": {
      "needs_background": "light"
     },
     "output_type": "display_data"
    }
   ],
   "source": [
    "show_with_reg([math.log(x[0]) for x in execution_times], \"Strassen\")\n",
    "show_with_reg([math.log(x[1]) for x in execution_times], \"naive\")"
   ]
  },
  {
   "cell_type": "markdown",
   "metadata": {},
   "source": [
    "#### Conclusion"
   ]
  },
  {
   "cell_type": "markdown",
   "metadata": {
    "ExecuteTime": {
     "end_time": "2019-12-18T18:34:50.118075Z",
     "start_time": "2019-12-18T18:34:50.114133Z"
    }
   },
   "source": [
    "It can be seen that when both the x and the y axis are scaled logarithmically, that the slope of the fitted linear function belonging to the implementation of the Strassen algorithm is $2.91$, which is a little bit worse than $2.807$ (Strassen algorithm should be in $O(n^{log_2 7}) \\approx O(2.807)$). The implementation of the Strassen algorithm is still faster than the one of the classical matrix multiplication algorithm which should be in $O(n^3)$, but actually has a slope of $3.05$ when both axis are scaled logarithmically."
   ]
  },
  {
   "cell_type": "markdown",
   "metadata": {
    "ExecuteTime": {
     "end_time": "2019-12-18T19:03:24.763595Z",
     "start_time": "2019-12-18T19:03:24.761028Z"
    }
   },
   "source": [
    "### Above which $n$ is the Strassen algorithm faster than the classic one?"
   ]
  },
  {
   "cell_type": "code",
   "execution_count": 137,
   "metadata": {
    "ExecuteTime": {
     "end_time": "2019-12-18T21:22:41.789855Z",
     "start_time": "2019-12-18T21:22:41.786388Z"
    }
   },
   "outputs": [],
   "source": [
    "def gen_func_smaller(i):\n",
    "    n = i * 30\n",
    "    return n"
   ]
  },
  {
   "cell_type": "code",
   "execution_count": 138,
   "metadata": {
    "ExecuteTime": {
     "end_time": "2019-12-18T21:22:42.167534Z",
     "start_time": "2019-12-18T21:22:42.164120Z"
    }
   },
   "outputs": [],
   "source": [
    "number_of_repititions = 3\n",
    "n_begin = 0\n",
    "n_end = 15"
   ]
  },
  {
   "cell_type": "code",
   "execution_count": 101,
   "metadata": {
    "ExecuteTime": {
     "end_time": "2019-12-18T20:06:31.166018Z",
     "start_time": "2019-12-18T20:01:12.134888Z"
    }
   },
   "outputs": [
    {
     "name": "stdout",
     "output_type": "stream",
     "text": [
      "0 0\n",
      "(4.465333101203821e-06, 3.044666603576237e-06)\n",
      "1 30\n",
      "(0.006099681000099129, 0.004894899666699833)\n",
      "2 60\n",
      "(0.045992560000134595, 0.038103436999942154)\n",
      "3 90\n",
      "(0.12242754766672685, 0.12359880633327218)\n",
      "4 120\n",
      "(0.3345049019999351, 0.2891283273332495)\n",
      "5 150\n",
      "(0.5728517190000275, 0.6404531646667238)\n",
      "6 180\n",
      "(0.9881765226667388, 1.13761027966666)\n",
      "7 210\n",
      "(1.473752217333337, 2.106292948333248)\n",
      "8 240\n",
      "(2.4412148716664888, 2.359956754333325)\n",
      "9 270\n",
      "(3.18221516033312, 3.676449112666584)\n",
      "10 300\n",
      "(4.364497179000257, 4.9220511030001335)\n",
      "11 330\n",
      "(5.620109313666641, 6.855528465999972)\n",
      "12 360\n",
      "(6.747700865333172, 9.0431270679998)\n",
      "13 390\n",
      "(9.965378666666766, 11.80272173266682)\n",
      "14 420\n",
      "(10.933248918666626, 14.69108377599999)\n"
     ]
    }
   ],
   "source": [
    "execution_times_smaller = execute_test(n_begin, n_end, gen_func_smaller)"
   ]
  },
  {
   "cell_type": "code",
   "execution_count": 139,
   "metadata": {
    "ExecuteTime": {
     "end_time": "2019-12-18T21:22:44.245451Z",
     "start_time": "2019-12-18T21:22:44.024671Z"
    }
   },
   "outputs": [
    {
     "data": {
      "text/plain": [
       "<matplotlib.legend.Legend at 0x122d0ff50>"
      ]
     },
     "execution_count": 139,
     "metadata": {},
     "output_type": "execute_result"
    },
    {
     "data": {
      "image/png": "[encoded data removed]",
      "text/plain": [
       "<Figure size 432x288 with 1 Axes>"
      ]
     },
     "metadata": {
      "needs_background": "light"
     },
     "output_type": "display_data"
    }
   ],
   "source": [
    "x_vals = [gen_func_smaller(i) for i in range(n_begin, len(execution_times_smaller)+n_begin)]\n",
    "plt.plot(x_vals,[x[0] for x in execution_times_smaller], label=\"Strassen\")\n",
    "plt.plot(x_vals,[x[1] for x in execution_times_smaller], label=\"naive\")\n",
    "plt.legend(loc='upper left')"
   ]
  },
  {
   "cell_type": "markdown",
   "metadata": {},
   "source": [
    "#### Conclusion\n",
    "\n",
    "For matrices of size $\\approx 250$ and above our implementation of the Strassen algorithm is faster than our implementation of the classic matrix multiplication algorithm. The test only ran for even numbers, because our implementation of the Strassen algorithm uses the classic matrix multiplication algorithm when the size of the matrix is odd."
   ]
  }
 ],
 "metadata": {
  "kernelspec": {
   "display_name": "Python 3",
   "language": "python",
   "name": "python3"
  },
  "language_info": {
   "codemirror_mode": {
    "name": "ipython",
    "version": 3
   },
   "file_extension": ".py",
   "mimetype": "text/x-python",
   "name": "python",
   "nbconvert_exporter": "python",
   "pygments_lexer": "ipython3",
   "version": "3.7.4"
  },
  "toc": {
   "base_numbering": 1,
   "nav_menu": {},
   "number_sections": false,
   "sideBar": true,
   "skip_h1_title": false,
   "title_cell": "Table of Contents",
   "title_sidebar": "Contents",
   "toc_cell": false,
   "toc_position": {},
   "toc_section_display": true,
   "toc_window_display": false
  },
  "varInspector": {
   "cols": {
    "lenName": 16,
    "lenType": 16,
    "lenVar": 40
   },
   "kernels_config": {
    "python": {
     "delete_cmd_postfix": "",
     "delete_cmd_prefix": "del ",
     "library": "var_list.py",
     "varRefreshCmd": "print(var_dic_list())"
    },
    "r": {
     "delete_cmd_postfix": ") ",
     "delete_cmd_prefix": "rm(",
     "library": "var_list.r",
     "varRefreshCmd": "cat(var_dic_list()) "
    }
   },
   "types_to_exclude": [
    "module",
    "function",
    "builtin_function_or_method",
    "instance",
    "_Feature"
   ],
   "window_display": false
  }
 },
 "nbformat": 4,
 "nbformat_minor": 2
}
